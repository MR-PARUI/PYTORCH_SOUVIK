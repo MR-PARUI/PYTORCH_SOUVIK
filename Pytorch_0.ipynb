{
  "nbformat": 4,
  "nbformat_minor": 0,
  "metadata": {
    "colab": {
      "provenance": []
    },
    "kernelspec": {
      "name": "python3",
      "display_name": "Python 3"
    },
    "language_info": {
      "name": "python"
    }
  },
  "cells": [
    {
      "cell_type": "markdown",
      "source": [
        "**CREATING** **TENSORS**\n",
        "\n",
        "Tensors are the fundamental building block of machine learning.\n",
        "\n",
        "Their job is to represent data in a numerical way."
      ],
      "metadata": {
        "id": "UdTUkqGOEDlr"
      }
    },
    {
      "cell_type": "code",
      "execution_count": null,
      "metadata": {
        "id": "Oc-lEnHPF-hT"
      },
      "outputs": [],
      "source": [
        "import torch"
      ]
    },
    {
      "cell_type": "code",
      "source": [
        "torch.__version__"
      ],
      "metadata": {
        "colab": {
          "base_uri": "https://localhost:8080/",
          "height": 35
        },
        "id": "e0FZ4vihG-H5",
        "outputId": "e3f614e4-1456-49ce-e80c-dd8578673330"
      },
      "execution_count": null,
      "outputs": [
        {
          "output_type": "execute_result",
          "data": {
            "text/plain": [
              "'2.2.1+cu121'"
            ],
            "application/vnd.google.colaboratory.intrinsic+json": {
              "type": "string"
            }
          },
          "metadata": {},
          "execution_count": 3
        }
      ]
    },
    {
      "cell_type": "markdown",
      "source": [
        "**SCALER** **OPERATION**"
      ],
      "metadata": {
        "id": "MJMdiOmuURTt"
      }
    },
    {
      "cell_type": "code",
      "source": [
        "scaler = torch.tensor(3)\n",
        "scaler"
      ],
      "metadata": {
        "colab": {
          "base_uri": "https://localhost:8080/"
        },
        "id": "t3WYXL5sHpCP",
        "outputId": "ffa7044f-c2ba-4524-e581-403b5b0fe4ad"
      },
      "execution_count": null,
      "outputs": [
        {
          "output_type": "execute_result",
          "data": {
            "text/plain": [
              "tensor(3)"
            ]
          },
          "metadata": {},
          "execution_count": 4
        }
      ]
    },
    {
      "cell_type": "code",
      "source": [
        "scaler.ndim"
      ],
      "metadata": {
        "colab": {
          "base_uri": "https://localhost:8080/"
        },
        "id": "3ZU4wuH8Ho-8",
        "outputId": "b1a2497b-4615-496f-f139-ad3a44fdd0ba"
      },
      "execution_count": null,
      "outputs": [
        {
          "output_type": "execute_result",
          "data": {
            "text/plain": [
              "0"
            ]
          },
          "metadata": {},
          "execution_count": 5
        }
      ]
    },
    {
      "cell_type": "code",
      "source": [
        "scaler.shape"
      ],
      "metadata": {
        "colab": {
          "base_uri": "https://localhost:8080/"
        },
        "id": "q7604aCFHo7k",
        "outputId": "134c4606-f075-468c-e77d-af0c3b8dde67"
      },
      "execution_count": null,
      "outputs": [
        {
          "output_type": "execute_result",
          "data": {
            "text/plain": [
              "torch.Size([])"
            ]
          },
          "metadata": {},
          "execution_count": 6
        }
      ]
    },
    {
      "cell_type": "code",
      "source": [
        "scaler.item()"
      ],
      "metadata": {
        "colab": {
          "base_uri": "https://localhost:8080/"
        },
        "id": "NWvB8G6cHo4O",
        "outputId": "fe4e67d5-bbc7-4e65-fd36-12e779982195"
      },
      "execution_count": null,
      "outputs": [
        {
          "output_type": "execute_result",
          "data": {
            "text/plain": [
              "3"
            ]
          },
          "metadata": {},
          "execution_count": 7
        }
      ]
    },
    {
      "cell_type": "markdown",
      "source": [
        "**VECTOR** **OPERATION**"
      ],
      "metadata": {
        "id": "SIdO6SiBUfBl"
      }
    },
    {
      "cell_type": "code",
      "source": [
        "vector = torch.tensor([2,4])\n",
        "vector"
      ],
      "metadata": {
        "colab": {
          "base_uri": "https://localhost:8080/"
        },
        "id": "VZPlBgInHo07",
        "outputId": "82912f78-7068-408a-ba07-9bc4a8597ce9"
      },
      "execution_count": null,
      "outputs": [
        {
          "output_type": "execute_result",
          "data": {
            "text/plain": [
              "tensor([2, 4])"
            ]
          },
          "metadata": {},
          "execution_count": 8
        }
      ]
    },
    {
      "cell_type": "code",
      "source": [
        "vector.ndim"
      ],
      "metadata": {
        "colab": {
          "base_uri": "https://localhost:8080/"
        },
        "id": "fEkplAx_HoxT",
        "outputId": "1d336783-5a86-473a-8cd0-697419557cd8"
      },
      "execution_count": null,
      "outputs": [
        {
          "output_type": "execute_result",
          "data": {
            "text/plain": [
              "1"
            ]
          },
          "metadata": {},
          "execution_count": 9
        }
      ]
    },
    {
      "cell_type": "code",
      "source": [
        "vector.shape"
      ],
      "metadata": {
        "colab": {
          "base_uri": "https://localhost:8080/"
        },
        "id": "qbnsMiPjHouL",
        "outputId": "dc6650ac-0a30-485b-b8e5-b838cb9ac1d3"
      },
      "execution_count": null,
      "outputs": [
        {
          "output_type": "execute_result",
          "data": {
            "text/plain": [
              "torch.Size([2])"
            ]
          },
          "metadata": {},
          "execution_count": 10
        }
      ]
    },
    {
      "cell_type": "code",
      "source": [
        "item = vector[0]\n",
        "print(item)"
      ],
      "metadata": {
        "colab": {
          "base_uri": "https://localhost:8080/"
        },
        "id": "0AZXaWgZHoqk",
        "outputId": "09d8ec1a-81f2-46de-f23c-db5ad1265139"
      },
      "execution_count": null,
      "outputs": [
        {
          "output_type": "stream",
          "name": "stdout",
          "text": [
            "tensor(2)\n"
          ]
        }
      ]
    },
    {
      "cell_type": "code",
      "source": [
        "item = vector[1]\n",
        "item"
      ],
      "metadata": {
        "colab": {
          "base_uri": "https://localhost:8080/"
        },
        "id": "ktVfUWexHonF",
        "outputId": "7f7f7060-56f0-47c6-e9e1-4d8ffafc58ac"
      },
      "execution_count": null,
      "outputs": [
        {
          "output_type": "execute_result",
          "data": {
            "text/plain": [
              "tensor(4)"
            ]
          },
          "metadata": {},
          "execution_count": 12
        }
      ]
    },
    {
      "cell_type": "markdown",
      "source": [
        "**MATRIX** **OPERATION**"
      ],
      "metadata": {
        "id": "0-WmxbrTVdC3"
      }
    },
    {
      "cell_type": "code",
      "source": [
        "MATRIX = torch.tensor([[1,2,3],[4,5,6],[7,8,9],[11,12,13]])\n",
        "MATRIX"
      ],
      "metadata": {
        "colab": {
          "base_uri": "https://localhost:8080/"
        },
        "id": "TziwXCaWHojj",
        "outputId": "de4e14c2-af44-4046-d1b2-f7083a2c980e"
      },
      "execution_count": null,
      "outputs": [
        {
          "output_type": "execute_result",
          "data": {
            "text/plain": [
              "tensor([[ 1,  2,  3],\n",
              "        [ 4,  5,  6],\n",
              "        [ 7,  8,  9],\n",
              "        [11, 12, 13]])"
            ]
          },
          "metadata": {},
          "execution_count": 2
        }
      ]
    },
    {
      "cell_type": "code",
      "source": [
        "MATRIX.ndim"
      ],
      "metadata": {
        "colab": {
          "base_uri": "https://localhost:8080/"
        },
        "id": "Qog4CkInHogP",
        "outputId": "178ed66a-b1d6-4aa5-bfc0-ca9d470fb2d9"
      },
      "execution_count": null,
      "outputs": [
        {
          "output_type": "execute_result",
          "data": {
            "text/plain": [
              "2"
            ]
          },
          "metadata": {},
          "execution_count": 14
        }
      ]
    },
    {
      "cell_type": "code",
      "source": [
        "MATRIX.shape"
      ],
      "metadata": {
        "colab": {
          "base_uri": "https://localhost:8080/"
        },
        "id": "2cDOPEL5UFgt",
        "outputId": "b292eb90-30be-4499-abe2-4d991f72230c"
      },
      "execution_count": null,
      "outputs": [
        {
          "output_type": "execute_result",
          "data": {
            "text/plain": [
              "torch.Size([4, 3])"
            ]
          },
          "metadata": {},
          "execution_count": 15
        }
      ]
    },
    {
      "cell_type": "code",
      "source": [
        "item = MATRIX[0,0]\n",
        "item"
      ],
      "metadata": {
        "colab": {
          "base_uri": "https://localhost:8080/"
        },
        "id": "JIjseO2PUFdw",
        "outputId": "19eba02a-5ff9-4fc6-e080-1e4ec0c640dc"
      },
      "execution_count": null,
      "outputs": [
        {
          "output_type": "execute_result",
          "data": {
            "text/plain": [
              "tensor(1)"
            ]
          },
          "metadata": {},
          "execution_count": 16
        }
      ]
    },
    {
      "cell_type": "code",
      "source": [
        "item = MATRIX[1,2]\n",
        "item"
      ],
      "metadata": {
        "colab": {
          "base_uri": "https://localhost:8080/"
        },
        "id": "dD5Zhh_aUFac",
        "outputId": "c35ef560-84eb-49cc-a483-e3792e9904e0"
      },
      "execution_count": null,
      "outputs": [
        {
          "output_type": "execute_result",
          "data": {
            "text/plain": [
              "tensor(6)"
            ]
          },
          "metadata": {},
          "execution_count": 17
        }
      ]
    },
    {
      "cell_type": "markdown",
      "source": [
        "**TENSOR** **OPERATION**"
      ],
      "metadata": {
        "id": "R3l2JxgCZdve"
      }
    },
    {
      "cell_type": "code",
      "source": [
        "TENSOR = torch.tensor([[[1,2,3],[4,5,6],[7,8,9],[11,12,13]]])\n",
        "TENSOR"
      ],
      "metadata": {
        "colab": {
          "base_uri": "https://localhost:8080/"
        },
        "id": "IHQJyzHjUFXg",
        "outputId": "b9160b68-c9ec-4a40-b024-30b7cfbf80e6"
      },
      "execution_count": null,
      "outputs": [
        {
          "output_type": "execute_result",
          "data": {
            "text/plain": [
              "tensor([[[ 1,  2,  3],\n",
              "         [ 4,  5,  6],\n",
              "         [ 7,  8,  9],\n",
              "         [11, 12, 13]]])"
            ]
          },
          "metadata": {},
          "execution_count": 18
        }
      ]
    },
    {
      "cell_type": "code",
      "source": [
        "TENSOR.ndim"
      ],
      "metadata": {
        "colab": {
          "base_uri": "https://localhost:8080/"
        },
        "id": "awjsoumlUFUI",
        "outputId": "6b6b7537-ed04-418c-ad42-438f24f96a14"
      },
      "execution_count": null,
      "outputs": [
        {
          "output_type": "execute_result",
          "data": {
            "text/plain": [
              "3"
            ]
          },
          "metadata": {},
          "execution_count": 19
        }
      ]
    },
    {
      "cell_type": "code",
      "source": [
        "TENSOR.shape"
      ],
      "metadata": {
        "colab": {
          "base_uri": "https://localhost:8080/"
        },
        "id": "_jcfWWXbUFQ_",
        "outputId": "05666abd-7ef0-40b1-d17a-c031c175758f"
      },
      "execution_count": null,
      "outputs": [
        {
          "output_type": "execute_result",
          "data": {
            "text/plain": [
              "torch.Size([1, 4, 3])"
            ]
          },
          "metadata": {},
          "execution_count": 20
        }
      ]
    },
    {
      "cell_type": "code",
      "source": [
        "item = TENSOR[0,0]\n",
        "item"
      ],
      "metadata": {
        "colab": {
          "base_uri": "https://localhost:8080/"
        },
        "id": "dTX77si3UFNS",
        "outputId": "fd045a55-76d3-43b2-95fa-e6745a8c19ad"
      },
      "execution_count": null,
      "outputs": [
        {
          "output_type": "execute_result",
          "data": {
            "text/plain": [
              "tensor([1, 2, 3])"
            ]
          },
          "metadata": {},
          "execution_count": 21
        }
      ]
    },
    {
      "cell_type": "code",
      "source": [
        "item = TENSOR[0,1]\n",
        "item"
      ],
      "metadata": {
        "colab": {
          "base_uri": "https://localhost:8080/"
        },
        "id": "-7yjgKqHUFIF",
        "outputId": "62e0ecca-3259-41a2-f581-0041d1964008"
      },
      "execution_count": null,
      "outputs": [
        {
          "output_type": "execute_result",
          "data": {
            "text/plain": [
              "tensor([4, 5, 6])"
            ]
          },
          "metadata": {},
          "execution_count": 22
        }
      ]
    },
    {
      "cell_type": "code",
      "source": [
        "item = TENSOR[0,0,0]\n",
        "item"
      ],
      "metadata": {
        "colab": {
          "base_uri": "https://localhost:8080/"
        },
        "id": "RoweCwTZUFB8",
        "outputId": "d9b43e3e-755a-41e1-b645-772cddce7a7b"
      },
      "execution_count": null,
      "outputs": [
        {
          "output_type": "execute_result",
          "data": {
            "text/plain": [
              "tensor(1)"
            ]
          },
          "metadata": {},
          "execution_count": 23
        }
      ]
    },
    {
      "cell_type": "code",
      "source": [
        "item = TENSOR[0,0,2]\n",
        "item"
      ],
      "metadata": {
        "colab": {
          "base_uri": "https://localhost:8080/"
        },
        "id": "SkmRwM0dlPD1",
        "outputId": "fb4fac9e-5fd0-4c79-c89a-f34b40c1dc1a"
      },
      "execution_count": null,
      "outputs": [
        {
          "output_type": "execute_result",
          "data": {
            "text/plain": [
              "tensor(3)"
            ]
          },
          "metadata": {},
          "execution_count": 24
        }
      ]
    },
    {
      "cell_type": "code",
      "source": [],
      "metadata": {
        "id": "PUezvRu6Iv0Q"
      },
      "execution_count": null,
      "outputs": []
    },
    {
      "cell_type": "markdown",
      "source": [
        "**RANDOM** **TENSORS**\n",
        "\n",
        " Machine learning model often starts out with large random tensors of numbers and adjusts these random numbers as it works through data to better represent it.\n",
        "\n",
        " **Start with random numbers -> look at data -> update random numbers -> look at data -> update random numbers.........**\n",
        "\n",
        " As a data scientist, you can define how the machine learning model starts (**initialization**), looks at data (**representation**) and updates (**optimization**) its random numbers."
      ],
      "metadata": {
        "id": "6sdLKf9_IG9Y"
      }
    },
    {
      "cell_type": "code",
      "source": [
        "#how to create a tensor of random numbers\n",
        "\n",
        "random_tensor = torch.rand(size=(4,3))\n",
        "random_tensor"
      ],
      "metadata": {
        "id": "JhZPWme8peli",
        "colab": {
          "base_uri": "https://localhost:8080/"
        },
        "outputId": "f1efbffd-4a44-41fa-ad13-f0c6c15f84d5"
      },
      "execution_count": null,
      "outputs": [
        {
          "output_type": "execute_result",
          "data": {
            "text/plain": [
              "tensor([[0.0300, 0.9139, 0.5865],\n",
              "        [0.9665, 0.8596, 0.8997],\n",
              "        [0.3863, 0.7629, 0.3649],\n",
              "        [0.3494, 0.9017, 0.2615]])"
            ]
          },
          "metadata": {},
          "execution_count": 26
        }
      ]
    },
    {
      "cell_type": "code",
      "source": [
        "random_tensor.dtype"
      ],
      "metadata": {
        "colab": {
          "base_uri": "https://localhost:8080/"
        },
        "id": "0rBJ6UUeIwsG",
        "outputId": "0260edb0-71a0-4835-85ca-cbf5aec4d661"
      },
      "execution_count": null,
      "outputs": [
        {
          "output_type": "execute_result",
          "data": {
            "text/plain": [
              "torch.float32"
            ]
          },
          "metadata": {},
          "execution_count": 27
        }
      ]
    },
    {
      "cell_type": "code",
      "source": [
        "# We wanted a random tensor in the common image shape of [224, 224, 3] ([height, width, color_channels]).\n",
        "\n",
        "image_random = torch.rand(size=(224, 224, 3))"
      ],
      "metadata": {
        "id": "kBYZZF6xIwps"
      },
      "execution_count": null,
      "outputs": []
    },
    {
      "cell_type": "code",
      "source": [
        "image_random"
      ],
      "metadata": {
        "id": "IM2us-wAIwnB"
      },
      "execution_count": null,
      "outputs": []
    },
    {
      "cell_type": "code",
      "source": [
        "image_random.ndim"
      ],
      "metadata": {
        "colab": {
          "base_uri": "https://localhost:8080/"
        },
        "id": "MT30cZ3ZIwj7",
        "outputId": "498c81b3-6057-4acc-b3b2-143449865007"
      },
      "execution_count": null,
      "outputs": [
        {
          "output_type": "execute_result",
          "data": {
            "text/plain": [
              "3"
            ]
          },
          "metadata": {},
          "execution_count": 30
        }
      ]
    },
    {
      "cell_type": "markdown",
      "source": [
        "**Zeros and Ones**\n",
        "\n",
        "Sometimes you'll just want to fill tensors with zeros or ones.\n",
        "\n",
        "This happens a lot with **masking** (like masking some of the values in one tensor with zeros to let a model know not to learn them)."
      ],
      "metadata": {
        "id": "S7PcuDttRiuJ"
      }
    },
    {
      "cell_type": "code",
      "source": [
        "# create a tensor full of zeros\n",
        "\n",
        "tensor_zero = torch.zeros(size=(4,3))\n",
        "tensor_zero"
      ],
      "metadata": {
        "colab": {
          "base_uri": "https://localhost:8080/"
        },
        "id": "314NFaqjIwhh",
        "outputId": "083e373a-ab75-4c20-eb5a-cd6c2924688e"
      },
      "execution_count": null,
      "outputs": [
        {
          "output_type": "execute_result",
          "data": {
            "text/plain": [
              "tensor([[0., 0., 0.],\n",
              "        [0., 0., 0.],\n",
              "        [0., 0., 0.],\n",
              "        [0., 0., 0.]])"
            ]
          },
          "metadata": {},
          "execution_count": 35
        }
      ]
    },
    {
      "cell_type": "code",
      "source": [
        "# create a tensor of all ones\n",
        "\n",
        "tensor_one = torch.ones(size=(4,3))\n",
        "tensor_one"
      ],
      "metadata": {
        "colab": {
          "base_uri": "https://localhost:8080/"
        },
        "id": "vRs8wzVhIwel",
        "outputId": "146970b0-2652-4b2c-a7f9-81655de22457"
      },
      "execution_count": null,
      "outputs": [
        {
          "output_type": "execute_result",
          "data": {
            "text/plain": [
              "tensor([[1., 1., 1.],\n",
              "        [1., 1., 1.],\n",
              "        [1., 1., 1.],\n",
              "        [1., 1., 1.]])"
            ]
          },
          "metadata": {},
          "execution_count": 37
        }
      ]
    },
    {
      "cell_type": "markdown",
      "source": [
        "**Creating a range and tensors like**\n",
        "\n",
        "Sometimes you might want a range of numbers, such as 1 to 10 or 0 to 100.\n",
        "\n",
        "You can use **torch.arange(start, end, step)** to do so."
      ],
      "metadata": {
        "id": "-JcccE9RVd5z"
      }
    },
    {
      "cell_type": "code",
      "source": [
        "tensor_range1 = torch.range(0,10)"
      ],
      "metadata": {
        "colab": {
          "base_uri": "https://localhost:8080/"
        },
        "id": "ko9KTD7cQ7V4",
        "outputId": "7e04392f-0e4d-4669-deee-8070544f3bbd"
      },
      "execution_count": null,
      "outputs": [
        {
          "output_type": "stream",
          "name": "stderr",
          "text": [
            "<ipython-input-44-5d46a607556d>:1: UserWarning: torch.range is deprecated and will be removed in a future release because its behavior is inconsistent with Python's range builtin. Instead, use torch.arange, which produces values in [start, end).\n",
            "  tensor_range1 = torch.range(0,10)\n"
          ]
        }
      ]
    },
    {
      "cell_type": "code",
      "source": [
        "tensor_range2 = torch.arange(start=0,end=10,step=1)\n",
        "tensor_range2"
      ],
      "metadata": {
        "colab": {
          "base_uri": "https://localhost:8080/"
        },
        "id": "gKfbIb9_Q7SO",
        "outputId": "ff8b0883-4267-49c9-c53c-ef178079f958"
      },
      "execution_count": null,
      "outputs": [
        {
          "output_type": "execute_result",
          "data": {
            "text/plain": [
              "tensor([0, 1, 2, 3, 4, 5, 6, 7, 8, 9])"
            ]
          },
          "metadata": {},
          "execution_count": 45
        }
      ]
    },
    {
      "cell_type": "code",
      "source": [
        "tensor_range3 = torch.arange(0,10,3)\n",
        "tensor_range3"
      ],
      "metadata": {
        "colab": {
          "base_uri": "https://localhost:8080/"
        },
        "id": "5sxPSArVQ7PD",
        "outputId": "99f6c9f1-aa14-4205-f638-0a2af0553284"
      },
      "execution_count": null,
      "outputs": [
        {
          "output_type": "execute_result",
          "data": {
            "text/plain": [
              "tensor([0, 3, 6, 9])"
            ]
          },
          "metadata": {},
          "execution_count": 46
        }
      ]
    },
    {
      "cell_type": "markdown",
      "source": [
        "Sometimes you might want **one tensor of a certain type with the same shape as another tensor.**\n",
        "\n",
        "**For example**, a tensor of all zeros with the same shape as a previous tensor.\n",
        "\n",
        "To do so you can use **torch.zeros_like(input)** or **torch.ones_like(input)** which return a tensor filled with zeros or ones in the same shape as the input respectively."
      ],
      "metadata": {
        "id": "aIGQNzM8dX0M"
      }
    },
    {
      "cell_type": "code",
      "source": [
        "# Can also create a tensor of zeros similar to another tensor\n",
        "\n",
        "tensor_range4 = torch.zeros_like(input=tensor_range3)\n",
        "tensor_range4"
      ],
      "metadata": {
        "colab": {
          "base_uri": "https://localhost:8080/"
        },
        "id": "UbVlyK7tQ7MZ",
        "outputId": "659b98fa-e985-4c17-d880-dbcd45ea2872"
      },
      "execution_count": null,
      "outputs": [
        {
          "output_type": "execute_result",
          "data": {
            "text/plain": [
              "tensor([0, 0, 0, 0])"
            ]
          },
          "metadata": {},
          "execution_count": 48
        }
      ]
    },
    {
      "cell_type": "code",
      "source": [
        "tensor_range5 = torch.ones_like(input=tensor_range2)\n",
        "tensor_range5"
      ],
      "metadata": {
        "colab": {
          "base_uri": "https://localhost:8080/"
        },
        "id": "YAGRNJTkQ7I4",
        "outputId": "e2e26d41-61f9-4f7e-bb28-e832774dfdac"
      },
      "execution_count": null,
      "outputs": [
        {
          "output_type": "execute_result",
          "data": {
            "text/plain": [
              "tensor([1, 1, 1, 1, 1, 1, 1, 1, 1, 1])"
            ]
          },
          "metadata": {},
          "execution_count": 49
        }
      ]
    },
    {
      "cell_type": "markdown",
      "source": [
        "**Tensor datatypes**"
      ],
      "metadata": {
        "id": "2jjV4gqGf4fS"
      }
    },
    {
      "cell_type": "code",
      "source": [
        "# how to create some tensors with specific datatypes. We can do so using the dtype parameter.\n",
        "# requires_grad=True ,if True, operations performed on the tensor are recorded\n",
        "# Default datatype for tensors is float32\n",
        "\n",
        "tensor_32_datatype = torch.tensor([1.0,2.0,3.0], dtype=None, device=None, requires_grad=False)"
      ],
      "metadata": {
        "id": "fEWNkRH9WdFo"
      },
      "execution_count": null,
      "outputs": []
    },
    {
      "cell_type": "code",
      "source": [
        "tensor_32_datatype.shape"
      ],
      "metadata": {
        "id": "T3r54uZ3Wc8h",
        "colab": {
          "base_uri": "https://localhost:8080/"
        },
        "outputId": "e10d6ce9-a135-48a8-c6fe-bf60c0d1b933"
      },
      "execution_count": null,
      "outputs": [
        {
          "output_type": "execute_result",
          "data": {
            "text/plain": [
              "torch.Size([3])"
            ]
          },
          "metadata": {},
          "execution_count": 5
        }
      ]
    },
    {
      "cell_type": "code",
      "source": [
        "tensor_32_datatype.dtype"
      ],
      "metadata": {
        "colab": {
          "base_uri": "https://localhost:8080/"
        },
        "id": "bxwImP5fYnWk",
        "outputId": "c3399ba1-f6d2-4fd3-a7bc-c0fca46b72aa"
      },
      "execution_count": null,
      "outputs": [
        {
          "output_type": "execute_result",
          "data": {
            "text/plain": [
              "torch.float32"
            ]
          },
          "metadata": {},
          "execution_count": 6
        }
      ]
    },
    {
      "cell_type": "code",
      "source": [
        "tensor_32_datatype.device"
      ],
      "metadata": {
        "colab": {
          "base_uri": "https://localhost:8080/"
        },
        "id": "Rxb3kHmRYnP9",
        "outputId": "1229d288-ae03-42ec-bda5-fcb1e6676a39"
      },
      "execution_count": null,
      "outputs": [
        {
          "output_type": "execute_result",
          "data": {
            "text/plain": [
              "device(type='cpu')"
            ]
          },
          "metadata": {},
          "execution_count": 7
        }
      ]
    },
    {
      "cell_type": "code",
      "source": [
        "#cpu, cuda, ipu, xpu\n",
        "\n",
        "tensor_16_datatype  = torch.tensor([2.0,3.0,4.0], dtype=torch.float64, device='cpu')"
      ],
      "metadata": {
        "id": "JyeVfXFHYnAS"
      },
      "execution_count": null,
      "outputs": []
    },
    {
      "cell_type": "markdown",
      "source": [
        "**Getting information from tensors**\n",
        "\n",
        "shape - what shape is the tensor? (some operations require specific shape rules)\n",
        "\n",
        "dtype - what datatype are the elements within the tensor stored in?\n",
        "\n",
        "device - what device is the tensor stored on? (usually GPU or CPU)"
      ],
      "metadata": {
        "id": "kpXgGx1OJEKA"
      }
    },
    {
      "cell_type": "code",
      "source": [
        "#create a random tensor and find out details about it.\n",
        "\n",
        "random_tensor = torch.rand(size=(4,4))\n",
        "\n",
        "random_tensor"
      ],
      "metadata": {
        "colab": {
          "base_uri": "https://localhost:8080/"
        },
        "id": "RNrWDBCyYm24",
        "outputId": "92895576-e55c-44e6-f32a-2444a6041c4a"
      },
      "execution_count": null,
      "outputs": [
        {
          "output_type": "execute_result",
          "data": {
            "text/plain": [
              "tensor([[0.4518, 0.5337, 0.5246, 0.6502],\n",
              "        [0.7720, 0.9557, 0.8361, 0.4819],\n",
              "        [0.2481, 0.7361, 0.3845, 0.5265],\n",
              "        [0.4870, 0.3354, 0.6849, 0.9643]])"
            ]
          },
          "metadata": {},
          "execution_count": 18
        }
      ]
    },
    {
      "cell_type": "code",
      "source": [
        "print(random_tensor)\n",
        "print(f\"Shape of my tensor: {random_tensor.shape}\")\n",
        "print(f\"Datatype of my tensor: {random_tensor.dtype}\")\n",
        "print(f\"Device of my tensor: {random_tensor.device}\")"
      ],
      "metadata": {
        "colab": {
          "base_uri": "https://localhost:8080/"
        },
        "id": "uRd47Wl3FdWZ",
        "outputId": "21a0475c-e0e2-44b9-eb53-459edd003727"
      },
      "execution_count": null,
      "outputs": [
        {
          "output_type": "stream",
          "name": "stdout",
          "text": [
            "tensor([[0.4518, 0.5337, 0.5246, 0.6502],\n",
            "        [0.7720, 0.9557, 0.8361, 0.4819],\n",
            "        [0.2481, 0.7361, 0.3845, 0.5265],\n",
            "        [0.4870, 0.3354, 0.6849, 0.9643]])\n",
            "Shape of my tensor: torch.Size([4, 4])\n",
            "Datatype of my tensor: torch.float32\n",
            "Device of my tensor: cpu\n"
          ]
        }
      ]
    },
    {
      "cell_type": "code",
      "source": [
        "random_tensor = torch.rand(size=(1,5,4))\n",
        "\n",
        "random_tensor"
      ],
      "metadata": {
        "colab": {
          "base_uri": "https://localhost:8080/"
        },
        "id": "1GDeiH7-FdTy",
        "outputId": "23507e8e-abd9-4ec1-9f60-937cb3957df1"
      },
      "execution_count": null,
      "outputs": [
        {
          "output_type": "execute_result",
          "data": {
            "text/plain": [
              "tensor([[[0.0395, 0.6655, 0.9903, 0.1457],\n",
              "         [0.5824, 0.4585, 0.3655, 0.3138],\n",
              "         [0.6218, 0.3728, 0.1447, 0.0215],\n",
              "         [0.7849, 0.6297, 0.2383, 0.6260],\n",
              "         [0.9617, 0.2675, 0.4063, 0.2266]]])"
            ]
          },
          "metadata": {},
          "execution_count": 20
        }
      ]
    },
    {
      "cell_type": "code",
      "source": [
        "random_tensor = torch.rand(size=(2,5,4))\n",
        "\n",
        "random_tensor"
      ],
      "metadata": {
        "colab": {
          "base_uri": "https://localhost:8080/"
        },
        "id": "MwHUxCS3FdQ5",
        "outputId": "ba887ffd-8732-4d08-96ff-c3457b9a98c4"
      },
      "execution_count": null,
      "outputs": [
        {
          "output_type": "execute_result",
          "data": {
            "text/plain": [
              "tensor([[[0.9947, 0.3326, 0.3801, 0.1499],\n",
              "         [0.0020, 0.3424, 0.1981, 0.9365],\n",
              "         [0.1528, 0.7981, 0.4715, 0.6367],\n",
              "         [0.8017, 0.1987, 0.8065, 0.2956],\n",
              "         [0.5533, 0.5546, 0.3039, 0.6273]],\n",
              "\n",
              "        [[0.2901, 0.6695, 0.0086, 0.2481],\n",
              "         [0.4263, 0.4104, 0.7993, 0.7504],\n",
              "         [0.4171, 0.0520, 0.6573, 0.6732],\n",
              "         [0.2493, 0.0617, 0.4215, 0.1851],\n",
              "         [0.5907, 0.0967, 0.4709, 0.7191]]])"
            ]
          },
          "metadata": {},
          "execution_count": 21
        }
      ]
    },
    {
      "cell_type": "code",
      "source": [
        "item_random_tensor = random_tensor[0,0]\n",
        "item_random_tensor"
      ],
      "metadata": {
        "colab": {
          "base_uri": "https://localhost:8080/"
        },
        "id": "87YZZIRxFdOK",
        "outputId": "b940836e-f9d3-4343-b8b4-824de8a133e1"
      },
      "execution_count": null,
      "outputs": [
        {
          "output_type": "execute_result",
          "data": {
            "text/plain": [
              "tensor([0.9947, 0.3326, 0.3801, 0.1499])"
            ]
          },
          "metadata": {},
          "execution_count": 23
        }
      ]
    },
    {
      "cell_type": "code",
      "source": [
        "item_random_tensor = random_tensor[1,0]\n",
        "item_random_tensor"
      ],
      "metadata": {
        "colab": {
          "base_uri": "https://localhost:8080/"
        },
        "id": "obNILalzFdKo",
        "outputId": "5a3c0a5e-cc8d-40f8-9f53-ee3619d856a8"
      },
      "execution_count": null,
      "outputs": [
        {
          "output_type": "execute_result",
          "data": {
            "text/plain": [
              "tensor([0.2901, 0.6695, 0.0086, 0.2481])"
            ]
          },
          "metadata": {},
          "execution_count": 24
        }
      ]
    },
    {
      "cell_type": "code",
      "source": [
        "item_random_tensor = random_tensor[1,0,3]\n",
        "item_random_tensor"
      ],
      "metadata": {
        "colab": {
          "base_uri": "https://localhost:8080/"
        },
        "id": "yXxe1M3rFdHh",
        "outputId": "a8a1a7b4-58e7-4ff4-b910-680a486d90ae"
      },
      "execution_count": null,
      "outputs": [
        {
          "output_type": "execute_result",
          "data": {
            "text/plain": [
              "tensor(0.2481)"
            ]
          },
          "metadata": {},
          "execution_count": 29
        }
      ]
    },
    {
      "cell_type": "markdown",
      "source": [
        "**Manipulating Tensors (tensor operations)**\n",
        "\n",
        "In deep learning, data (images, text, video, audio, protein structures, etc) gets represented as tensors.\n",
        "\n",
        "A model learns by investigating those tensors and performing a series of operations (could be 1,000,000s+) on tensors to create a representation of the patterns in the input data.\n",
        "\n",
        "These operations are :\n",
        "\n",
        "**Addition**\n",
        "\n",
        "**Substraction**\n",
        "\n",
        "**Multiplication (element-wise)**\n",
        "\n",
        "**Division**\n",
        "\n",
        "**Matrix multiplication**"
      ],
      "metadata": {
        "id": "smpwNJdiQWZX"
      }
    },
    {
      "cell_type": "code",
      "source": [
        "#Addition\n",
        "\n",
        "Add_tensor = torch.tensor(1)\n",
        "Add_tensor + 10"
      ],
      "metadata": {
        "colab": {
          "base_uri": "https://localhost:8080/"
        },
        "id": "9NYtIu6lFdBJ",
        "outputId": "35927e8a-86fb-4568-f7d9-6bc78a2415e4"
      },
      "execution_count": null,
      "outputs": [
        {
          "output_type": "execute_result",
          "data": {
            "text/plain": [
              "tensor(11)"
            ]
          },
          "metadata": {},
          "execution_count": 41
        }
      ]
    },
    {
      "cell_type": "code",
      "source": [
        "Add_tensor"
      ],
      "metadata": {
        "colab": {
          "base_uri": "https://localhost:8080/"
        },
        "id": "11jEKYBMatNh",
        "outputId": "af2e53d7-1e13-4113-c110-dcd06afc3105"
      },
      "execution_count": null,
      "outputs": [
        {
          "output_type": "execute_result",
          "data": {
            "text/plain": [
              "tensor(1)"
            ]
          },
          "metadata": {},
          "execution_count": 42
        }
      ]
    },
    {
      "cell_type": "code",
      "source": [
        "Add_tensor + 20"
      ],
      "metadata": {
        "colab": {
          "base_uri": "https://localhost:8080/"
        },
        "id": "wDQA4QCRajeW",
        "outputId": "cea5ed6f-af26-4960-8c60-41b602646359"
      },
      "execution_count": null,
      "outputs": [
        {
          "output_type": "execute_result",
          "data": {
            "text/plain": [
              "tensor(21)"
            ]
          },
          "metadata": {},
          "execution_count": 43
        }
      ]
    },
    {
      "cell_type": "code",
      "source": [
        "Add_tensor = torch.tensor([1,2,3,3,4])\n",
        "Add_tensor + 10"
      ],
      "metadata": {
        "colab": {
          "base_uri": "https://localhost:8080/"
        },
        "id": "TIKzyh3HQO1j",
        "outputId": "5ebdc8eb-4e35-4d8a-822c-615584ec6a14"
      },
      "execution_count": null,
      "outputs": [
        {
          "output_type": "execute_result",
          "data": {
            "text/plain": [
              "tensor([11, 12, 13, 13, 14])"
            ]
          },
          "metadata": {},
          "execution_count": 44
        }
      ]
    },
    {
      "cell_type": "code",
      "source": [
        "Add_tensor = torch.tensor([[1,2,3],[4,5,6]])\n",
        "Add_tensor + 10"
      ],
      "metadata": {
        "colab": {
          "base_uri": "https://localhost:8080/"
        },
        "id": "spVqDf8LQOvG",
        "outputId": "b7d4130e-0ce4-4900-9ce9-bab396bd29f8"
      },
      "execution_count": null,
      "outputs": [
        {
          "output_type": "execute_result",
          "data": {
            "text/plain": [
              "tensor([[11, 12, 13],\n",
              "        [14, 15, 16]])"
            ]
          },
          "metadata": {},
          "execution_count": 45
        }
      ]
    },
    {
      "cell_type": "code",
      "source": [
        "# Notice how the tensor values above didn't end up being tensor([[110, 120, 130],[140,150,160]]),\n",
        "#this is because the values inside the tensor don't change unless they're reassigned.\n",
        "\n",
        "Add_tensor * 10"
      ],
      "metadata": {
        "colab": {
          "base_uri": "https://localhost:8080/"
        },
        "id": "3EDGZm8WQOpN",
        "outputId": "5259ccae-b836-4789-b92b-6dad27f41dd6"
      },
      "execution_count": null,
      "outputs": [
        {
          "output_type": "execute_result",
          "data": {
            "text/plain": [
              "tensor([[10, 20, 30],\n",
              "        [40, 50, 60]])"
            ]
          },
          "metadata": {},
          "execution_count": 46
        }
      ]
    },
    {
      "cell_type": "code",
      "source": [
        "# Tensors don't change unless reassigned\n",
        "\n",
        "Add_tensor"
      ],
      "metadata": {
        "colab": {
          "base_uri": "https://localhost:8080/"
        },
        "id": "vhFiEE6wQOjP",
        "outputId": "fa0a9590-fde4-49ec-f954-1ff5efac19dc"
      },
      "execution_count": null,
      "outputs": [
        {
          "output_type": "execute_result",
          "data": {
            "text/plain": [
              "tensor([[1, 2, 3],\n",
              "        [4, 5, 6]])"
            ]
          },
          "metadata": {},
          "execution_count": 47
        }
      ]
    },
    {
      "cell_type": "code",
      "source": [
        "# Substract and reassign\n",
        "\n",
        "sub_tensor = Add_tensor - 4\n",
        "sub_tensor"
      ],
      "metadata": {
        "colab": {
          "base_uri": "https://localhost:8080/"
        },
        "id": "Uammz59sQOc_",
        "outputId": "19b31753-933d-4d6f-ae08-a02b66547541"
      },
      "execution_count": null,
      "outputs": [
        {
          "output_type": "execute_result",
          "data": {
            "text/plain": [
              "tensor([[-3, -2, -1],\n",
              "        [ 0,  1,  2]])"
            ]
          },
          "metadata": {},
          "execution_count": 50
        }
      ]
    },
    {
      "cell_type": "code",
      "source": [
        "# ADD and reassign\n",
        "\n",
        "ad_tensor = sub_tensor + 4\n",
        "ad_tensor"
      ],
      "metadata": {
        "colab": {
          "base_uri": "https://localhost:8080/"
        },
        "id": "l7UB5sGSQOWN",
        "outputId": "df70056f-56da-4b48-be45-65287aaf001a"
      },
      "execution_count": null,
      "outputs": [
        {
          "output_type": "execute_result",
          "data": {
            "text/plain": [
              "tensor([[1, 2, 3],\n",
              "        [4, 5, 6]])"
            ]
          },
          "metadata": {},
          "execution_count": 51
        }
      ]
    },
    {
      "cell_type": "code",
      "source": [
        "mul_tensor = ad_tensor * 10\n",
        "mul_tensor"
      ],
      "metadata": {
        "colab": {
          "base_uri": "https://localhost:8080/"
        },
        "id": "Xc1ISQkVQOPU",
        "outputId": "99eed799-9f83-4ea7-dde6-7c7bedbc9537"
      },
      "execution_count": null,
      "outputs": [
        {
          "output_type": "execute_result",
          "data": {
            "text/plain": [
              "tensor([[10, 20, 30],\n",
              "        [40, 50, 60]])"
            ]
          },
          "metadata": {},
          "execution_count": 53
        }
      ]
    },
    {
      "cell_type": "code",
      "source": [
        "mul_tensor/10"
      ],
      "metadata": {
        "colab": {
          "base_uri": "https://localhost:8080/"
        },
        "id": "t1N9nB5mgxW8",
        "outputId": "e50faa37-4937-4476-c71c-b822e816daa1"
      },
      "execution_count": null,
      "outputs": [
        {
          "output_type": "execute_result",
          "data": {
            "text/plain": [
              "tensor([[1., 2., 3.],\n",
              "        [4., 5., 6.]])"
            ]
          },
          "metadata": {},
          "execution_count": 54
        }
      ]
    },
    {
      "cell_type": "code",
      "source": [
        "# PyTorch also has a bunch of built-in functions like torch.mul() (short for multiplication) and torch.add() to perform basic operations.\n",
        "\n",
        "a = torch.tensor([1,2,3])\n",
        "torch.add(a, 10)"
      ],
      "metadata": {
        "colab": {
          "base_uri": "https://localhost:8080/"
        },
        "id": "ePkGIF57gxQg",
        "outputId": "d5f9977e-913d-4d12-a48e-759fe3685b35"
      },
      "execution_count": null,
      "outputs": [
        {
          "output_type": "execute_result",
          "data": {
            "text/plain": [
              "tensor([11, 12, 13])"
            ]
          },
          "metadata": {},
          "execution_count": 55
        }
      ]
    },
    {
      "cell_type": "code",
      "source": [
        "torch.mul(a,10)"
      ],
      "metadata": {
        "colab": {
          "base_uri": "https://localhost:8080/"
        },
        "id": "5JCjl1p8QOI5",
        "outputId": "4df16c66-76a8-4448-f5ed-ac39d6ddcaa8"
      },
      "execution_count": null,
      "outputs": [
        {
          "output_type": "execute_result",
          "data": {
            "text/plain": [
              "tensor([10, 20, 30])"
            ]
          },
          "metadata": {},
          "execution_count": 56
        }
      ]
    },
    {
      "cell_type": "code",
      "source": [
        "# Element-wise multiplication (each element multiplies its equivalent, index 0->0, 1->1, 2->2)\n",
        "\n",
        "print(a*a)"
      ],
      "metadata": {
        "colab": {
          "base_uri": "https://localhost:8080/"
        },
        "id": "Au4VvyEfFc6s",
        "outputId": "a573cf3b-56eb-4350-a163-d3fe1ba78ee5"
      },
      "execution_count": null,
      "outputs": [
        {
          "output_type": "stream",
          "name": "stdout",
          "text": [
            "tensor([1, 4, 9])\n"
          ]
        }
      ]
    },
    {
      "cell_type": "markdown",
      "source": [
        "**MATRIX** **MULTIPLICATION**\n",
        "\n",
        "PyTorch implements matrix multiplication functionality in the **torch.matmul()** method.\n",
        "\n",
        "The main **two rules for matrix multiplication** to remember are:\n",
        "\n",
        "The **inner dimensions** must match:\n",
        "\n",
        "(3, 2) @ (3, 2) won't work\n",
        "\n",
        "(2, 3) @ (3, 2) will work\n",
        "\n",
        "(3, 2) @ (2, 3) will work\n",
        "\n",
        "\n",
        "The resulting matrix has the **shape of the outer dimensions**:\n",
        "\n",
        "(2, 3) @ (3, 2) -> (2, 2)\n",
        "\n",
        "(3, 2) @ (2, 3) -> (3, 3)\n"
      ],
      "metadata": {
        "id": "0w-zg5-Szwv7"
      }
    },
    {
      "cell_type": "code",
      "source": [
        "# Let's create a tensor and perform element-wise multiplication and matrix multiplication on it.\n",
        "\n",
        "b = torch.tensor([1,2,3])"
      ],
      "metadata": {
        "id": "l75FT3ccy5fg"
      },
      "execution_count": null,
      "outputs": []
    },
    {
      "cell_type": "code",
      "source": [
        "# Element-wise matrix multiplication\n",
        "# Element-wise multiplication\t[1*1, 2*2, 3*3] = [1, 4, 9]\t(tensor * tensor)\n",
        "\n",
        "b * b"
      ],
      "metadata": {
        "colab": {
          "base_uri": "https://localhost:8080/"
        },
        "id": "s5aA_odny5cZ",
        "outputId": "64f4aa63-d85a-4b3b-a926-ba437445ef55"
      },
      "execution_count": null,
      "outputs": [
        {
          "output_type": "execute_result",
          "data": {
            "text/plain": [
              "tensor([1, 4, 9])"
            ]
          },
          "metadata": {},
          "execution_count": 4
        }
      ]
    },
    {
      "cell_type": "code",
      "source": [
        "# Matrix multiplication\t[1*1 + 2*2 + 3*3] = [14]\ttensor.matmul(tensor)\n",
        "\n",
        "torch.matmul(b,b)"
      ],
      "metadata": {
        "colab": {
          "base_uri": "https://localhost:8080/"
        },
        "id": "fe5lSmkuy5Yy",
        "outputId": "d9c5420c-d3da-4064-84c3-55593a33a8bc"
      },
      "execution_count": null,
      "outputs": [
        {
          "output_type": "execute_result",
          "data": {
            "text/plain": [
              "tensor(14)"
            ]
          },
          "metadata": {},
          "execution_count": 5
        }
      ]
    },
    {
      "cell_type": "code",
      "source": [
        "b @ b"
      ],
      "metadata": {
        "colab": {
          "base_uri": "https://localhost:8080/"
        },
        "id": "6HirocwCy5TR",
        "outputId": "71d070da-75db-4f32-df51-27bf712dff59"
      },
      "execution_count": null,
      "outputs": [
        {
          "output_type": "execute_result",
          "data": {
            "text/plain": [
              "tensor(14)"
            ]
          },
          "metadata": {},
          "execution_count": 6
        }
      ]
    },
    {
      "cell_type": "code",
      "source": [
        "# You can do matrix multiplication by hand but it's not recommended.\n",
        "# The in-built torch.matmul() method is faster.\n",
        "# b= torch.tensor([1,2,3])\n",
        "%%time\n",
        "\n",
        "value = 0\n",
        "for i in range(len(b)) :\n",
        "  value += b[i] * b[i]\n",
        "\n",
        "value"
      ],
      "metadata": {
        "id": "MxcxRDQIy5PK",
        "colab": {
          "base_uri": "https://localhost:8080/"
        },
        "outputId": "4c5e28d0-b284-48a4-8dc4-2495ef9276f2"
      },
      "execution_count": null,
      "outputs": [
        {
          "output_type": "stream",
          "name": "stdout",
          "text": [
            "CPU times: user 404 µs, sys: 0 ns, total: 404 µs\n",
            "Wall time: 413 µs\n"
          ]
        },
        {
          "output_type": "execute_result",
          "data": {
            "text/plain": [
              "tensor(14)"
            ]
          },
          "metadata": {},
          "execution_count": 9
        }
      ]
    },
    {
      "cell_type": "code",
      "source": [
        "%%time\n",
        "\n",
        "torch.matmul(b,b)"
      ],
      "metadata": {
        "id": "wY8iUOUpy5Lr",
        "colab": {
          "base_uri": "https://localhost:8080/"
        },
        "outputId": "65e7bd59-3653-427c-b19a-2eb0405c8288"
      },
      "execution_count": null,
      "outputs": [
        {
          "output_type": "stream",
          "name": "stdout",
          "text": [
            "CPU times: user 2.01 ms, sys: 0 ns, total: 2.01 ms\n",
            "Wall time: 14.2 ms\n"
          ]
        },
        {
          "output_type": "execute_result",
          "data": {
            "text/plain": [
              "tensor(14)"
            ]
          },
          "metadata": {},
          "execution_count": 10
        }
      ]
    },
    {
      "cell_type": "markdown",
      "source": [
        "**One of the most common errors in deep learning (shape errors)**"
      ],
      "metadata": {
        "id": "loow3-kv4jQ2"
      }
    },
    {
      "cell_type": "code",
      "source": [
        "import torch"
      ],
      "metadata": {
        "id": "Qr1yeqyNy5Io"
      },
      "execution_count": null,
      "outputs": []
    },
    {
      "cell_type": "code",
      "source": [
        "x = torch.tensor([[1,2,3],\n",
        "                  [4,5,6],\n",
        "                  [7,8,9]], dtype=torch.float32)\n",
        "\n",
        "\n",
        "y = torch.tensor([[1,2,3],\n",
        "                  [4,5,6],\n",
        "                  [7,8,9]], dtype=torch.float32)\n",
        "\n",
        "torch.matmul(x,y)"
      ],
      "metadata": {
        "id": "AiciBU3Ny5E5",
        "colab": {
          "base_uri": "https://localhost:8080/"
        },
        "outputId": "7db28b24-fb42-4a9e-9b47-d15e0713dc24"
      },
      "execution_count": null,
      "outputs": [
        {
          "output_type": "execute_result",
          "data": {
            "text/plain": [
              "tensor([[ 30.,  36.,  42.],\n",
              "        [ 66.,  81.,  96.],\n",
              "        [102., 126., 150.]])"
            ]
          },
          "metadata": {},
          "execution_count": 12
        }
      ]
    },
    {
      "cell_type": "code",
      "source": [
        "# We can make matrix multiplication work between x and y by making their inner dimensions match.\n",
        "\n",
        "# One of the ways to do this is with a transpose (switch the dimensions of a given tensor).\n",
        "\n",
        "\n",
        "x = torch.tensor([[1,2],\n",
        "                  [4,5],\n",
        "                  [7,8]], dtype=torch.float32)\n",
        "\n",
        "\n",
        "y = torch.tensor([[1,2],\n",
        "                  [4,5],\n",
        "                  [7,8]], dtype=torch.float32)\n",
        "\n",
        "# torch.matmul(x,y)  ----   RuntimeError: mat1 and mat2 shapes cannot be multiplied (3x2 and 3x2)"
      ],
      "metadata": {
        "id": "hdYO75Dxy5A5"
      },
      "execution_count": null,
      "outputs": []
    },
    {
      "cell_type": "code",
      "source": [
        "# MATRIX TRANSPOSE OPERATION\n",
        "# torch.transpose(input,dimo,dim1)\n",
        "# tensor.T -----  where tensor is the desired tensor to transpose.\n",
        "\n",
        "y = torch.tensor([[1,2],\n",
        "                  [4,5],\n",
        "                  [7,8]], dtype=torch.float32)\n",
        "\n",
        "# torch.transpose(y,0,1) or y.T\n",
        "y_new_matrix = y.T"
      ],
      "metadata": {
        "id": "PZeRmSiGMrJF"
      },
      "execution_count": null,
      "outputs": []
    },
    {
      "cell_type": "code",
      "source": [
        "y_new_matrix"
      ],
      "metadata": {
        "colab": {
          "base_uri": "https://localhost:8080/"
        },
        "id": "JstCCp-APUM8",
        "outputId": "7884ab59-b77c-4e29-f157-b03e418f5fb4"
      },
      "execution_count": null,
      "outputs": [
        {
          "output_type": "execute_result",
          "data": {
            "text/plain": [
              "tensor([[1., 4., 7.],\n",
              "        [2., 5., 8.]])"
            ]
          },
          "metadata": {},
          "execution_count": 24
        }
      ]
    },
    {
      "cell_type": "code",
      "source": [
        "torch.matmul(x,y_new_matrix)"
      ],
      "metadata": {
        "colab": {
          "base_uri": "https://localhost:8080/"
        },
        "id": "zJ0cREdcPXFV",
        "outputId": "5b81d150-cea7-45b3-9a6e-3bb7ecde2421"
      },
      "execution_count": null,
      "outputs": [
        {
          "output_type": "execute_result",
          "data": {
            "text/plain": [
              "tensor([[  5.,  14.,  23.],\n",
              "        [ 14.,  41.,  68.],\n",
              "        [ 23.,  68., 113.]])"
            ]
          },
          "metadata": {},
          "execution_count": 25
        }
      ]
    },
    {
      "cell_type": "code",
      "source": [
        "torch.mm(x,y_new_matrix)"
      ],
      "metadata": {
        "colab": {
          "base_uri": "https://localhost:8080/"
        },
        "id": "NtpbP4caMrGk",
        "outputId": "82ad5588-a95f-431e-b921-4339de1cb748"
      },
      "execution_count": null,
      "outputs": [
        {
          "output_type": "execute_result",
          "data": {
            "text/plain": [
              "tensor([[  5.,  14.,  23.],\n",
              "        [ 14.,  41.,  68.],\n",
              "        [ 23.,  68., 113.]])"
            ]
          },
          "metadata": {},
          "execution_count": 26
        }
      ]
    },
    {
      "cell_type": "markdown",
      "source": [
        "**NEURAL NETWORKS BASICS**"
      ],
      "metadata": {
        "id": "3ZdctajQvEOw"
      }
    },
    {
      "cell_type": "code",
      "source": [
        "# Neural networks are full of matrix multiplications and dot products.\n",
        "\n",
        "# The torch.nn.Linear() module, also known as a feed-forward layer or fully connected layer,\n",
        "# implements a matrix multiplication between an input x and a weights matrix W.\n",
        "\n",
        "#    Y = X.W + b     ---- Y = output patterns, X = input to the layer,\n",
        "#  w = weights matrix created by the layer, this starts out as random numbers that get adjusted as a neural network learns to better represent patterns in the data.\n",
        "# b = bias term used to slightly offset the weights and inputs.\n",
        "\n",
        "# # Since the linear layer starts with a random weights matrix, let's make it reproducible.\n",
        "\n",
        "# in_features = matches inner dimension of input\n",
        "# out_features = describes outer value\n"
      ],
      "metadata": {
        "id": "pS7uzFeEMrDb"
      },
      "execution_count": null,
      "outputs": []
    },
    {
      "cell_type": "code",
      "source": [
        "# Input Shape\n",
        "\n",
        "A = torch.tensor([[1,2,3],\n",
        "                 [4,5,6]], dtype=torch.float32)\n",
        "\n",
        "A.shape"
      ],
      "metadata": {
        "id": "6yrvys7aMq-N",
        "colab": {
          "base_uri": "https://localhost:8080/"
        },
        "outputId": "1b5a7d4d-c2fe-4dac-8e67-605ca24dadd7"
      },
      "execution_count": null,
      "outputs": [
        {
          "output_type": "execute_result",
          "data": {
            "text/plain": [
              "torch.Size([2, 3])"
            ]
          },
          "metadata": {},
          "execution_count": 51
        }
      ]
    },
    {
      "cell_type": "code",
      "source": [
        "linear = torch.nn.Linear(in_features=3, out_features=6)"
      ],
      "metadata": {
        "id": "3InXSOeu3jLx"
      },
      "execution_count": null,
      "outputs": []
    },
    {
      "cell_type": "code",
      "source": [
        "# Output Shape\n",
        "\n",
        "output = linear(A)    # y = linear (x) + b\n",
        "\n",
        "print(output.shape)\n",
        "print(output)"
      ],
      "metadata": {
        "id": "71cfIKK4y49l",
        "colab": {
          "base_uri": "https://localhost:8080/"
        },
        "outputId": "508ba4d4-efe5-43d0-dbff-8539b24ec51d"
      },
      "execution_count": null,
      "outputs": [
        {
          "output_type": "stream",
          "name": "stdout",
          "text": [
            "torch.Size([2, 6])\n",
            "tensor([[-0.2065,  0.1095, -1.5169,  1.7267,  0.7022, -0.5307],\n",
            "        [-0.3153,  1.3053, -2.4071,  3.6037, -0.1537, -1.7647]],\n",
            "       grad_fn=<AddmmBackward0>)\n"
          ]
        }
      ]
    },
    {
      "cell_type": "markdown",
      "source": [
        "**Finding the min, max, mean, sum, etc (aggregation)**"
      ],
      "metadata": {
        "id": "nfjBcTx1-xxB"
      }
    },
    {
      "cell_type": "code",
      "source": [
        "# create a tensor\n",
        "\n",
        "T = torch.arange(1,100,5)\n",
        "T"
      ],
      "metadata": {
        "id": "BgZ-C1iAy45p",
        "colab": {
          "base_uri": "https://localhost:8080/"
        },
        "outputId": "74da11ac-84d7-43db-9df9-fad0a82f62ed"
      },
      "execution_count": null,
      "outputs": [
        {
          "output_type": "execute_result",
          "data": {
            "text/plain": [
              "tensor([ 1,  6, 11, 16, 21, 26, 31, 36, 41, 46, 51, 56, 61, 66, 71, 76, 81, 86,\n",
              "        91, 96])"
            ]
          },
          "metadata": {},
          "execution_count": 4
        }
      ]
    },
    {
      "cell_type": "code",
      "source": [
        "# T.min()\n",
        "\n",
        "print(f\"Minimum No:{T.min()}\")\n",
        "print(f\"Maximum No:{T.max()}\")\n",
        "\n",
        "\n",
        "# print(f\"Mean:{T.mean()}\") #ERROR\n",
        "\n",
        "print(f\"Mean:{T.type(torch.float32).mean()}\")\n",
        "\n",
        "print(f\"Sum:{T.sum()}\")"
      ],
      "metadata": {
        "id": "-KppR_g-4Dbr",
        "colab": {
          "base_uri": "https://localhost:8080/"
        },
        "outputId": "74b4fc21-71e7-4e6d-8553-faf7ff0ea558"
      },
      "execution_count": null,
      "outputs": [
        {
          "output_type": "stream",
          "name": "stdout",
          "text": [
            "Minimum No:1\n",
            "Maximum No:96\n",
            "Mean:48.5\n",
            "Sum:970\n"
          ]
        }
      ]
    },
    {
      "cell_type": "code",
      "source": [
        "torch.min(T)"
      ],
      "metadata": {
        "id": "usAoaZCi4DYQ",
        "colab": {
          "base_uri": "https://localhost:8080/"
        },
        "outputId": "41a24e4b-7417-4590-c106-808f3a055134"
      },
      "execution_count": null,
      "outputs": [
        {
          "output_type": "execute_result",
          "data": {
            "text/plain": [
              "tensor(1)"
            ]
          },
          "metadata": {},
          "execution_count": 14
        }
      ]
    },
    {
      "cell_type": "code",
      "source": [
        "torch.mean(T.type(torch.float32))"
      ],
      "metadata": {
        "id": "kmWDXsZZ4DVV",
        "colab": {
          "base_uri": "https://localhost:8080/"
        },
        "outputId": "fdea9e77-2aab-4a06-da75-8ba0f0ace877"
      },
      "execution_count": null,
      "outputs": [
        {
          "output_type": "execute_result",
          "data": {
            "text/plain": [
              "tensor(48.5000)"
            ]
          },
          "metadata": {},
          "execution_count": 16
        }
      ]
    },
    {
      "cell_type": "markdown",
      "source": [
        "**Positional min/max**\n",
        "\n",
        "You can also **find the index of a tensor** where the max or minimum occurs with **torch.argmax() and torch.argmin()** respectively.\n",
        "\n",
        "This is helpful incase you just want the position where the highest (or lowest) value is and not the actual value itself"
      ],
      "metadata": {
        "id": "sB8TTKv6p57h"
      }
    },
    {
      "cell_type": "code",
      "source": [
        "T1 = torch.arange(10,100,10)\n",
        "print(T1)\n",
        "\n",
        "print(f\"Minimum value at index: {T1.argmin()}\")\n",
        "\n",
        "print(f\"Maximum value at index: {T1.argmax()}\")\n"
      ],
      "metadata": {
        "id": "4uORC91U4DPv",
        "colab": {
          "base_uri": "https://localhost:8080/"
        },
        "outputId": "179b9bd4-a96f-4253-cbb7-c042da363b3d"
      },
      "execution_count": null,
      "outputs": [
        {
          "output_type": "stream",
          "name": "stdout",
          "text": [
            "tensor([10, 20, 30, 40, 50, 60, 70, 80, 90])\n",
            "Minimum value at index: 0\n",
            "Maximum value at index: 8\n"
          ]
        }
      ]
    },
    {
      "cell_type": "markdown",
      "source": [
        "**Change tensor datatype**\n",
        "\n",
        "Common issue with deep learning operations is having your **tensors in different datatypes**.\n",
        "\n",
        "If one tensor is in **torch.float64** and another is in **torch.float32**, you might run into some errors.\n",
        "\n",
        "But there's a fix.\n",
        "\n",
        "You can change the datatypes of tensors using **tensor.type(dtype=None)** where the dtype parameter is the datatype you'd like to use."
      ],
      "metadata": {
        "id": "34R7IOW0CUCw"
      }
    },
    {
      "cell_type": "code",
      "source": [
        "T2 = torch.arange(1,10,2)\n",
        "print(T2)\n",
        "T2.dtype"
      ],
      "metadata": {
        "id": "J0RJuYeC4DLI",
        "colab": {
          "base_uri": "https://localhost:8080/"
        },
        "outputId": "0ab481cc-3a21-471e-83a4-f2f6fb669b2a"
      },
      "execution_count": null,
      "outputs": [
        {
          "output_type": "stream",
          "name": "stdout",
          "text": [
            "tensor([1, 3, 5, 7, 9])\n"
          ]
        },
        {
          "output_type": "execute_result",
          "data": {
            "text/plain": [
              "torch.int64"
            ]
          },
          "metadata": {},
          "execution_count": 26
        }
      ]
    },
    {
      "cell_type": "code",
      "source": [
        "T3 = T2.type(torch.float16)\n",
        "print(T3)\n",
        "T3.dtype"
      ],
      "metadata": {
        "id": "RpPV8mtw4DGi",
        "colab": {
          "base_uri": "https://localhost:8080/"
        },
        "outputId": "141d84d3-f560-41a7-db11-accb89d117bf"
      },
      "execution_count": null,
      "outputs": [
        {
          "output_type": "stream",
          "name": "stdout",
          "text": [
            "tensor([1., 3., 5., 7., 9.], dtype=torch.float16)\n"
          ]
        },
        {
          "output_type": "execute_result",
          "data": {
            "text/plain": [
              "torch.float16"
            ]
          },
          "metadata": {},
          "execution_count": 29
        }
      ]
    },
    {
      "cell_type": "markdown",
      "source": [
        "**Reshaping**, **stacking**, **squeezing and unsqueezing**\n",
        "\n",
        "Often times you'll want to reshape or change the dimensions of your tensors without actually changing the values inside them."
      ],
      "metadata": {
        "id": "tCyIoN9_I6hw"
      }
    },
    {
      "cell_type": "code",
      "source": [
        "import torch\n",
        "\n",
        "z = torch.arange(1.,10.)\n",
        "\n",
        "print(z)\n",
        "print(z.shape)"
      ],
      "metadata": {
        "id": "9hz7PZn3y41S",
        "colab": {
          "base_uri": "https://localhost:8080/"
        },
        "outputId": "ab794f89-ac9f-47f6-c8c0-433fbcf6d03f"
      },
      "execution_count": null,
      "outputs": [
        {
          "output_type": "stream",
          "name": "stdout",
          "text": [
            "tensor([1., 2., 3., 4., 5., 6., 7., 8., 9.])\n",
            "torch.Size([9])\n"
          ]
        }
      ]
    },
    {
      "cell_type": "code",
      "source": [
        "# # Add an extra dimension\n",
        "\n",
        "z_reshape = z.reshape(1,9)\n",
        "\n",
        "print(z_reshape)\n",
        "print(z_reshape.shape)"
      ],
      "metadata": {
        "id": "mxSzwvKdWczn",
        "colab": {
          "base_uri": "https://localhost:8080/"
        },
        "outputId": "26e4dfae-7783-4629-f744-f06ae47ed661"
      },
      "execution_count": null,
      "outputs": [
        {
          "output_type": "stream",
          "name": "stdout",
          "text": [
            "tensor([[1., 2., 3., 4., 5., 6., 7., 8., 9.]])\n",
            "torch.Size([1, 9])\n"
          ]
        }
      ]
    },
    {
      "cell_type": "code",
      "source": [
        "# Remove extra dimension from z_reshape\n",
        "\n",
        "z_remove_dim = z_reshape.squeeze()\n",
        "\n",
        "print(z_remove_dim)\n",
        "print(z_remove_dim.shape)"
      ],
      "metadata": {
        "id": "B3zGhxuJDUrB",
        "colab": {
          "base_uri": "https://localhost:8080/"
        },
        "outputId": "3520b264-bb8a-4954-9306-8afa3e95a1cc"
      },
      "execution_count": null,
      "outputs": [
        {
          "output_type": "stream",
          "name": "stdout",
          "text": [
            "tensor([1., 2., 3., 4., 5., 6., 7., 8., 9.])\n",
            "torch.Size([9])\n"
          ]
        }
      ]
    },
    {
      "cell_type": "code",
      "source": [
        "## Add an extra dimension with unsqueeze\n",
        "## use torch.unsqueeze() to add a dimension value of 1 at a specific index.\n",
        "\n",
        "\n",
        "z_unsqueeze = z_remove_dim.unsqueeze(dim=0)\n",
        "\n",
        "print(f\"New Tensor: {z_unsqueeze}\")\n",
        "print(f\"New Tensor Shape: {z_unsqueeze.shape}\")"
      ],
      "metadata": {
        "id": "ZKfAXTEMDUli",
        "colab": {
          "base_uri": "https://localhost:8080/"
        },
        "outputId": "91d73ca3-885b-4417-c191-0d363bc768f4"
      },
      "execution_count": null,
      "outputs": [
        {
          "output_type": "stream",
          "name": "stdout",
          "text": [
            "New Tensor: tensor([[1., 2., 3., 4., 5., 6., 7., 8., 9.]])\n",
            "New Tensor Shape: torch.Size([1, 9])\n"
          ]
        }
      ]
    },
    {
      "cell_type": "code",
      "source": [
        "## You can also rearrange the order of axes values with torch.permute(input, dims), where the input gets turned into a view with new dims.\n",
        "\n",
        "# Create tensor with specific shape\n",
        "\n",
        "original_tensor = torch.rand(size=(224,224,3))\n",
        "\n",
        "new_tensor = original_tensor.permute(2,0,1)   # shifts axis 0->1, 1->2, 2->0\n",
        "\n",
        "print(original_tensor.shape)\n",
        "print(new_tensor.shape)"
      ],
      "metadata": {
        "id": "8D4cIFVUDUgu",
        "colab": {
          "base_uri": "https://localhost:8080/"
        },
        "outputId": "428783fe-dc30-451d-bda8-fbd1efa17682"
      },
      "execution_count": null,
      "outputs": [
        {
          "output_type": "stream",
          "name": "stdout",
          "text": [
            "torch.Size([224, 224, 3])\n",
            "torch.Size([3, 224, 224])\n"
          ]
        }
      ]
    },
    {
      "cell_type": "markdown",
      "source": [
        "**Indexing (selecting data from tensors)**\n",
        "\n",
        "Sometimes you'll want to select specific data from tensors (for example, only the first column or second row).\n",
        "\n",
        "To do so, you can use indexing."
      ],
      "metadata": {
        "id": "4Bq5hAcVp9PV"
      }
    },
    {
      "cell_type": "code",
      "source": [
        "# create a tensor\n",
        "\n",
        "import torch\n",
        "a = torch.arange(1,11)\n",
        "a"
      ],
      "metadata": {
        "id": "z-ibGYJHDUdq",
        "colab": {
          "base_uri": "https://localhost:8080/"
        },
        "outputId": "aa7d6f4e-0d49-4c7c-ed75-9f3166a861e7"
      },
      "execution_count": null,
      "outputs": [
        {
          "output_type": "execute_result",
          "data": {
            "text/plain": [
              "tensor([ 1,  2,  3,  4,  5,  6,  7,  8,  9, 10])"
            ]
          },
          "metadata": {},
          "execution_count": 6
        }
      ]
    },
    {
      "cell_type": "code",
      "source": [
        "import torch\n",
        "a1 = torch.arange(1,10).reshape(3,3)\n",
        "a1"
      ],
      "metadata": {
        "id": "TLQKIiUsDUaM",
        "colab": {
          "base_uri": "https://localhost:8080/"
        },
        "outputId": "70c9b419-4756-47a6-80a5-0c85039f2778"
      },
      "execution_count": null,
      "outputs": [
        {
          "output_type": "execute_result",
          "data": {
            "text/plain": [
              "tensor([[1, 2, 3],\n",
              "        [4, 5, 6],\n",
              "        [7, 8, 9]])"
            ]
          },
          "metadata": {},
          "execution_count": 18
        }
      ]
    },
    {
      "cell_type": "code",
      "source": [
        "import torch\n",
        "a = torch.arange(1,10).reshape(1,3,3)\n",
        "a"
      ],
      "metadata": {
        "id": "01vUy5RhDUXc",
        "colab": {
          "base_uri": "https://localhost:8080/"
        },
        "outputId": "93850930-f2d9-45b1-c8f5-8f32d29b1f94"
      },
      "execution_count": null,
      "outputs": [
        {
          "output_type": "execute_result",
          "data": {
            "text/plain": [
              "tensor([[[1, 2, 3],\n",
              "         [4, 5, 6],\n",
              "         [7, 8, 9]]])"
            ]
          },
          "metadata": {},
          "execution_count": 24
        }
      ]
    },
    {
      "cell_type": "code",
      "source": [
        "## Indexing values goes outer dimension -> inner dimension (check out the square brackets).\n",
        "\n",
        "print(f\"First square backet: {a[0]} \")"
      ],
      "metadata": {
        "id": "ZVa_47giDUTo",
        "colab": {
          "base_uri": "https://localhost:8080/"
        },
        "outputId": "d49c64fa-5a20-43be-dbea-ee7d5a1a157f"
      },
      "execution_count": null,
      "outputs": [
        {
          "output_type": "stream",
          "name": "stdout",
          "text": [
            "First square backet: tensor([[1, 2, 3],\n",
            "        [4, 5, 6],\n",
            "        [7, 8, 9]]) \n"
          ]
        }
      ]
    },
    {
      "cell_type": "code",
      "source": [
        "print(f\"Second square backet: {a[0][0]} \")"
      ],
      "metadata": {
        "id": "nBCusUnzDUQh",
        "colab": {
          "base_uri": "https://localhost:8080/"
        },
        "outputId": "c42b6113-e885-4000-f48e-3a33f18c2351"
      },
      "execution_count": null,
      "outputs": [
        {
          "output_type": "stream",
          "name": "stdout",
          "text": [
            "Second square backet: tensor([1, 2, 3]) \n"
          ]
        }
      ]
    },
    {
      "cell_type": "code",
      "source": [
        "print(f\"Third square backet: {a[0][0][0]} \")"
      ],
      "metadata": {
        "id": "rXwl-DamDUMs",
        "colab": {
          "base_uri": "https://localhost:8080/"
        },
        "outputId": "bdb92f61-538e-4c7c-91b1-5d3bf39f7877"
      },
      "execution_count": null,
      "outputs": [
        {
          "output_type": "stream",
          "name": "stdout",
          "text": [
            "Third square backet: 1 \n"
          ]
        }
      ]
    },
    {
      "cell_type": "code",
      "source": [
        "print(f\"Third square backet: {a[0][1][0]} \")"
      ],
      "metadata": {
        "id": "ZkQXYNyEWcrV",
        "colab": {
          "base_uri": "https://localhost:8080/"
        },
        "outputId": "eb56f7b0-d762-41e3-e179-375412d8442a"
      },
      "execution_count": null,
      "outputs": [
        {
          "output_type": "stream",
          "name": "stdout",
          "text": [
            "Third square backet: 4 \n"
          ]
        }
      ]
    },
    {
      "cell_type": "code",
      "source": [
        "## You can also use : to specify \"all values in this dimension\" and then use a comma (,) to add another dimension.\n",
        "\n",
        "z= torch.arange(1,10).reshape(1,3,3)\n",
        "z"
      ],
      "metadata": {
        "id": "7LFweWihog-e",
        "colab": {
          "base_uri": "https://localhost:8080/"
        },
        "outputId": "66cc197e-46ba-4f0d-da90-670ef8c28893"
      },
      "execution_count": null,
      "outputs": [
        {
          "output_type": "execute_result",
          "data": {
            "text/plain": [
              "tensor([[[1, 2, 3],\n",
              "         [4, 5, 6],\n",
              "         [7, 8, 9]]])"
            ]
          },
          "metadata": {},
          "execution_count": 29
        }
      ]
    },
    {
      "cell_type": "code",
      "source": [
        "# Get all values of 0th dimension and the 0 index of 1st dimension\n",
        "\n",
        "z[:,0]"
      ],
      "metadata": {
        "id": "ObG3csGYog77",
        "colab": {
          "base_uri": "https://localhost:8080/"
        },
        "outputId": "25394252-fbe0-4ab4-d386-ab896f4a9dd6"
      },
      "execution_count": null,
      "outputs": [
        {
          "output_type": "execute_result",
          "data": {
            "text/plain": [
              "tensor([[1, 2, 3]])"
            ]
          },
          "metadata": {},
          "execution_count": 35
        }
      ]
    },
    {
      "cell_type": "code",
      "source": [
        "z[:,0,1]"
      ],
      "metadata": {
        "id": "S-UyZj_Zog4-",
        "colab": {
          "base_uri": "https://localhost:8080/"
        },
        "outputId": "845662bf-62e8-4642-8e03-6a91ba1a934c"
      },
      "execution_count": null,
      "outputs": [
        {
          "output_type": "execute_result",
          "data": {
            "text/plain": [
              "tensor([2])"
            ]
          },
          "metadata": {},
          "execution_count": 34
        }
      ]
    },
    {
      "cell_type": "code",
      "source": [
        "# Get all values of the 0 dimension but only the 1 index value of the 1st and 2nd dimension\n",
        "\n",
        "z[:,1,1]"
      ],
      "metadata": {
        "id": "HwBb8Up1og13",
        "colab": {
          "base_uri": "https://localhost:8080/"
        },
        "outputId": "ece92a5d-5bab-44d2-d0c2-efdd9c7d1514"
      },
      "execution_count": null,
      "outputs": [
        {
          "output_type": "execute_result",
          "data": {
            "text/plain": [
              "tensor([5])"
            ]
          },
          "metadata": {},
          "execution_count": 36
        }
      ]
    },
    {
      "cell_type": "code",
      "source": [
        "# Get all values of 0th & 1st dimensions but only index 1 of 2nd dimension\n",
        "## Z[dim0,dim1,dim2]\n",
        "\n",
        "z[:,:,1]"
      ],
      "metadata": {
        "id": "tmm0Q3uXogy8",
        "colab": {
          "base_uri": "https://localhost:8080/"
        },
        "outputId": "4874fea0-4375-4bf8-8f5d-27babd21ab63"
      },
      "execution_count": null,
      "outputs": [
        {
          "output_type": "execute_result",
          "data": {
            "text/plain": [
              "tensor([[2, 5, 8]])"
            ]
          },
          "metadata": {},
          "execution_count": 40
        }
      ]
    },
    {
      "cell_type": "code",
      "source": [
        "# Get index 0 of 0th and 1st dimension and all values of 2nd dimension\n",
        "\n",
        "# x[0][0]\n",
        "\n",
        "z[0,0,:]"
      ],
      "metadata": {
        "id": "gTMD7rygogvo",
        "colab": {
          "base_uri": "https://localhost:8080/"
        },
        "outputId": "46ed025e-f5d0-46e9-847a-60c480521ba6"
      },
      "execution_count": null,
      "outputs": [
        {
          "output_type": "execute_result",
          "data": {
            "text/plain": [
              "tensor([1, 2, 3])"
            ]
          },
          "metadata": {},
          "execution_count": 43
        }
      ]
    },
    {
      "cell_type": "markdown",
      "source": [
        "**PyTorch tensors & NumPy**\n",
        "\n",
        "Since NumPy is a popular Python numerical computing library, PyTorch has functionality to interact with it nicely.\n",
        "\n",
        "The **two main methods** you'll want to use for NumPy to PyTorch (and back again) are:\n",
        "\n",
        "**torch.from_numpy(ndarray) - NumPy array -> PyTorch tensor.**\n",
        "\n",
        "**torch.Tensor.numpy() - PyTorch tensor -> NumPy array.**"
      ],
      "metadata": {
        "id": "XvnikGdsoo33"
      }
    },
    {
      "cell_type": "code",
      "source": [
        "# Numpy array to tensor conversion\n",
        "\n",
        "import torch\n",
        "import numpy as np\n",
        "\n",
        "array = np.arange(1,10)\n",
        "tensor = torch.from_numpy(array)\n",
        "\n",
        "print(array)\n",
        "print(tensor)\n",
        "print(array.dtype)\n",
        "print(tensor.dtype)"
      ],
      "metadata": {
        "id": "HyKZ6qK3iUiT",
        "colab": {
          "base_uri": "https://localhost:8080/"
        },
        "outputId": "4dce6574-697d-48b9-b941-e112e28d4186"
      },
      "execution_count": null,
      "outputs": [
        {
          "output_type": "stream",
          "name": "stdout",
          "text": [
            "[1 2 3 4 5 6 7 8 9]\n",
            "tensor([1, 2, 3, 4, 5, 6, 7, 8, 9])\n",
            "int64\n",
            "torch.int64\n"
          ]
        }
      ]
    },
    {
      "cell_type": "code",
      "source": [
        "tensor = torch.from_numpy(array).type(torch.float32)\n",
        "print(tensor)"
      ],
      "metadata": {
        "id": "YsTMVpUuiUey",
        "colab": {
          "base_uri": "https://localhost:8080/"
        },
        "outputId": "510893ba-36a2-4565-fc34-5a292b8cbafa"
      },
      "execution_count": null,
      "outputs": [
        {
          "output_type": "stream",
          "name": "stdout",
          "text": [
            "tensor([1., 2., 3., 4., 5., 6., 7., 8., 9.])\n"
          ]
        }
      ]
    },
    {
      "cell_type": "code",
      "source": [
        " # tensor to numpy array conversion\n",
        "\n",
        "a = torch.arange(1,7)\n",
        "num_array = a.numpy()\n",
        "print(a.dtype)\n",
        "print(num_array.dtype)\n",
        "print(a)\n",
        "print(num_array)"
      ],
      "metadata": {
        "id": "799BuRFciUWD",
        "colab": {
          "base_uri": "https://localhost:8080/"
        },
        "outputId": "bf932df2-5834-4487-8751-04732278b038"
      },
      "execution_count": null,
      "outputs": [
        {
          "output_type": "stream",
          "name": "stdout",
          "text": [
            "torch.int64\n",
            "int64\n",
            "tensor([1, 2, 3, 4, 5, 6])\n",
            "[1 2 3 4 5 6]\n"
          ]
        }
      ]
    },
    {
      "cell_type": "markdown",
      "source": [
        "**Reproducibility (trying to take the random out of random**)\n"
      ],
      "metadata": {
        "id": "6AVbZANe7EzW"
      }
    },
    {
      "cell_type": "code",
      "source": [
        "## create two random tensor\n",
        "\n",
        "tensor_a = torch.rand(2,2)\n",
        "tensor_b = torch.rand(2,2)\n",
        "\n",
        "print(tensor_a)\n",
        "print(tensor_b)\n",
        "\n",
        "tensor_a == tensor_b"
      ],
      "metadata": {
        "id": "3VmHOZg-iUQh",
        "colab": {
          "base_uri": "https://localhost:8080/"
        },
        "outputId": "40c8006b-9236-45ce-ef96-90e9504eed32"
      },
      "execution_count": null,
      "outputs": [
        {
          "output_type": "stream",
          "name": "stdout",
          "text": [
            "tensor([[0.1285, 0.8211],\n",
            "        [0.3783, 0.4370]])\n",
            "tensor([[0.5121, 0.2946],\n",
            "        [0.8679, 0.5879]])\n"
          ]
        },
        {
          "output_type": "execute_result",
          "data": {
            "text/plain": [
              "tensor([[False, False],\n",
              "        [False, False]])"
            ]
          },
          "metadata": {},
          "execution_count": 18
        }
      ]
    },
    {
      "cell_type": "code",
      "source": [
        "##  But what if you wanted to created two random tensors with the same values.\n",
        "\n",
        "## As in, the tensors would still contain random values but they would be of the same flavour.\n",
        "\n",
        "## That's where torch.manual_seed(seed) comes in, where seed is an integer (like 42 but it could be anything) that flavours the randomness.\n",
        "\n",
        "\n",
        "import random\n",
        "\n",
        "random_seed = 42\n",
        "torch.manual_seed(seed = random_seed)\n",
        "tensor_c = torch.rand(3,3)\n",
        "print(tensor_c)\n",
        "\n",
        "\n",
        "\n",
        "torch.random.manual_seed(seed = random_seed)\n",
        "tensor_d = torch.rand(3,3)\n",
        "print(tensor_d)"
      ],
      "metadata": {
        "id": "cLdPXf3QiUNR",
        "colab": {
          "base_uri": "https://localhost:8080/"
        },
        "outputId": "0699f08a-1684-493f-f5d1-2b2b15822b6f"
      },
      "execution_count": null,
      "outputs": [
        {
          "output_type": "stream",
          "name": "stdout",
          "text": [
            "tensor([[0.8823, 0.9150, 0.3829],\n",
            "        [0.9593, 0.3904, 0.6009],\n",
            "        [0.2566, 0.7936, 0.9408]])\n",
            "tensor([[0.8823, 0.9150, 0.3829],\n",
            "        [0.9593, 0.3904, 0.6009],\n",
            "        [0.2566, 0.7936, 0.9408]])\n"
          ]
        }
      ]
    },
    {
      "cell_type": "code",
      "source": [
        "## Getting PyTorch to run on the GPU\n",
        "\n",
        "# Check for GPU\n",
        "import torch\n",
        "torch.cuda.is_available()"
      ],
      "metadata": {
        "id": "M5GAtnwxiUFq",
        "colab": {
          "base_uri": "https://localhost:8080/"
        },
        "outputId": "bcc8330e-2bd0-43ea-9b94-d9cff85620a3"
      },
      "execution_count": null,
      "outputs": [
        {
          "output_type": "execute_result",
          "data": {
            "text/plain": [
              "False"
            ]
          },
          "metadata": {},
          "execution_count": 30
        }
      ]
    },
    {
      "cell_type": "code",
      "source": [],
      "metadata": {
        "id": "QebMlJXPir_c"
      },
      "execution_count": null,
      "outputs": []
    },
    {
      "cell_type": "code",
      "source": [],
      "metadata": {
        "id": "Phcbf_eNirz4"
      },
      "execution_count": null,
      "outputs": []
    },
    {
      "cell_type": "code",
      "source": [],
      "metadata": {
        "id": "jMH7hxDfiroq"
      },
      "execution_count": null,
      "outputs": []
    },
    {
      "cell_type": "code",
      "source": [],
      "metadata": {
        "id": "8nnBdceU7jUS"
      },
      "execution_count": null,
      "outputs": []
    },
    {
      "cell_type": "code",
      "source": [],
      "metadata": {
        "id": "wfqCjZQe7jRa"
      },
      "execution_count": null,
      "outputs": []
    },
    {
      "cell_type": "code",
      "source": [],
      "metadata": {
        "id": "ndX_v4vM7jOq"
      },
      "execution_count": null,
      "outputs": []
    },
    {
      "cell_type": "code",
      "source": [],
      "metadata": {
        "id": "N2zftBak7jKN"
      },
      "execution_count": null,
      "outputs": []
    },
    {
      "cell_type": "code",
      "source": [],
      "metadata": {
        "id": "BX2rLiqA7jHj"
      },
      "execution_count": null,
      "outputs": []
    },
    {
      "cell_type": "code",
      "source": [],
      "metadata": {
        "id": "8sP5kQlX7jEl"
      },
      "execution_count": null,
      "outputs": []
    }
  ]
}