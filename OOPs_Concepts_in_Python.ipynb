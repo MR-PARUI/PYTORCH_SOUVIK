{
  "nbformat": 4,
  "nbformat_minor": 0,
  "metadata": {
    "colab": {
      "provenance": []
    },
    "kernelspec": {
      "name": "python3",
      "display_name": "Python 3"
    },
    "language_info": {
      "name": "python"
    }
  },
  "cells": [
    {
      "cell_type": "code",
      "source": [
        "## How to create a class\n",
        "## __init__ method has to be defined with def. This is the initializer that you can later use to instantiate objects. It's similar to a constructor in Java.\n",
        "## It takes one argument: self, which refers to the object itself.\n",
        "## Inside the method, the pass keyword is used as of now, because Python expects you to type something there.\n",
        "\n",
        "\n",
        "class Car :\n",
        "  def __init__(self):\n",
        "    pass"
      ],
      "metadata": {
        "id": "D5IEQx4cXC4I"
      },
      "execution_count": null,
      "outputs": []
    },
    {
      "cell_type": "code",
      "source": [
        "## How to create object (Instantiating objects)\n",
        "\n",
        "car1 = Car()\n",
        "print(car1)"
      ],
      "metadata": {
        "colab": {
          "base_uri": "https://localhost:8080/"
        },
        "id": "hPfiZ0yFsOv-",
        "outputId": "1ec67230-0ef3-49d2-c976-7010076ae42a"
      },
      "execution_count": null,
      "outputs": [
        {
          "output_type": "stream",
          "name": "stdout",
          "text": [
            "<__main__.Car object at 0x7db7a75165c0>\n"
          ]
        }
      ]
    },
    {
      "cell_type": "code",
      "source": [
        "## Adding attributes to a class\n",
        "\n",
        "class Car :\n",
        "  def __init__(self,model,year):\n",
        "    self.model = model\n",
        "    self.year = year"
      ],
      "metadata": {
        "id": "dvOQA-EvsOtH"
      },
      "execution_count": null,
      "outputs": []
    },
    {
      "cell_type": "code",
      "source": [
        "## You can now create a new car object with a model and year:\n",
        "\n",
        "car2 = Car(\"TATA\", 2023)"
      ],
      "metadata": {
        "id": "dOOoXhJWsOqA"
      },
      "execution_count": null,
      "outputs": []
    },
    {
      "cell_type": "code",
      "source": [
        "## To access an object's attributes in Python, you can use the dot notation.\n",
        "\n",
        "print(car2.model)\n",
        "print(car2.year)\n",
        "print(f\"{car2.model} {car2.year}\")"
      ],
      "metadata": {
        "colab": {
          "base_uri": "https://localhost:8080/"
        },
        "id": "aV3974KysOnH",
        "outputId": "3f3a8bf0-ea64-490f-a9c4-fa1711203e8d"
      },
      "execution_count": null,
      "outputs": [
        {
          "output_type": "stream",
          "name": "stdout",
          "text": [
            "TATA\n",
            "2023\n",
            "TATA 2023\n"
          ]
        }
      ]
    },
    {
      "cell_type": "code",
      "source": [
        "## Define methods in a class\n",
        "\n",
        "class Car :\n",
        "  def __init__(self,model,year):\n",
        "    self.model = model\n",
        "    self.year = year\n",
        "\n",
        "  def get_info(self):\n",
        "    print(\"Hello\")\n",
        "\n",
        "  def method1(self):\n",
        "        print(self.model + \" is \" + str(self.year) + \" year old.\")"
      ],
      "metadata": {
        "id": "ETqoWpzPsOkF"
      },
      "execution_count": null,
      "outputs": []
    },
    {
      "cell_type": "code",
      "source": [
        "## How to access methods in a class\n",
        "\n",
        "car3 = Car(\"NEXON\", 2013)\n",
        "\n",
        "car3.get_info()\n",
        "car3.method1()"
      ],
      "metadata": {
        "colab": {
          "base_uri": "https://localhost:8080/"
        },
        "id": "RIEKmaRn7-jJ",
        "outputId": "69738bee-73fb-4eff-95e6-b1d125678acb"
      },
      "execution_count": null,
      "outputs": [
        {
          "output_type": "stream",
          "name": "stdout",
          "text": [
            "Hello\n",
            "NEXON is 2013 year old.\n"
          ]
        }
      ]
    },
    {
      "cell_type": "code",
      "source": [
        "car3.year = 2024\n",
        "car3.method1()"
      ],
      "metadata": {
        "colab": {
          "base_uri": "https://localhost:8080/"
        },
        "id": "aMrXXECq7-gg",
        "outputId": "2ff4f131-5da7-4cf6-a4e4-cb179259bafe"
      },
      "execution_count": null,
      "outputs": [
        {
          "output_type": "stream",
          "name": "stdout",
          "text": [
            "NEXON is 2024 year old.\n"
          ]
        }
      ]
    },
    {
      "cell_type": "code",
      "source": [
        "## It's as easy as assigning a new value to the attribute.\n",
        "\n",
        "class Car :\n",
        "  def __init__(self,model,year):\n",
        "    self.model = model\n",
        "    self.year = year\n",
        "\n",
        "  def get_info(self):\n",
        "    print(\"Hello\")\n",
        "\n",
        "  def method1(self):\n",
        "        print(self.model + \" is \" + str(self.year) + \" year old.\")\n",
        "\n",
        "  def method2(self):\n",
        "    self.year += 1"
      ],
      "metadata": {
        "id": "7bECuAU87-db"
      },
      "execution_count": null,
      "outputs": []
    },
    {
      "cell_type": "code",
      "source": [
        "# Create one object car4 and print attribute value\n",
        "\n",
        "car4 = Car(\"TATA\", 20)\n",
        "\n",
        "print(car4.year)"
      ],
      "metadata": {
        "colab": {
          "base_uri": "https://localhost:8080/"
        },
        "id": "qWwZBqq_qXYo",
        "outputId": "828d4170-089d-47c4-c1ba-cfed8b9dad53"
      },
      "execution_count": null,
      "outputs": [
        {
          "output_type": "stream",
          "name": "stdout",
          "text": [
            "20\n"
          ]
        }
      ]
    },
    {
      "cell_type": "code",
      "source": [
        "## calling newly method\n",
        "\n",
        "car4.method2()"
      ],
      "metadata": {
        "id": "69Lpf5tTuMSa"
      },
      "execution_count": null,
      "outputs": []
    },
    {
      "cell_type": "code",
      "source": [
        "print(car4.year)"
      ],
      "metadata": {
        "colab": {
          "base_uri": "https://localhost:8080/"
        },
        "id": "J7fv_YAYqXOk",
        "outputId": "4e7badcd-d275-44d4-b657-c69dc0f91b96"
      },
      "execution_count": null,
      "outputs": [
        {
          "output_type": "stream",
          "name": "stdout",
          "text": [
            "21\n"
          ]
        }
      ]
    },
    {
      "cell_type": "code",
      "source": [
        "## Passing arguments to methods (IMPORTANT CONCEPTS)\n",
        "\n",
        "\n",
        "class Car :\n",
        "  def __init__(self,model,year):\n",
        "    self.model = model\n",
        "    self.year = year\n",
        "\n",
        "  def get_info(self):\n",
        "    print(\"Hello\")\n",
        "\n",
        "  def method1(self):\n",
        "        print(self.model + \" is \" + str(self.year) + \" year old.\")\n",
        "\n",
        "  def method2(self):\n",
        "    self.year += 1\n",
        "\n",
        "  def method3(self, name):\n",
        "    self.name = name\n",
        "    name.name = self\n"
      ],
      "metadata": {
        "id": "SIxP4-uGqXLK"
      },
      "execution_count": null,
      "outputs": []
    },
    {
      "cell_type": "code",
      "source": [
        "## create object, call the method with the dot notation, and pass it another Car object\n",
        "\n",
        "car4 = Car(\"TATA\", 2013)\n",
        "car5 = Car(\"MERCEDES\", 2014)\n",
        "\n",
        "car4.method3(car5)"
      ],
      "metadata": {
        "id": "0zsuROvKqXIS"
      },
      "execution_count": null,
      "outputs": []
    },
    {
      "cell_type": "code",
      "source": [
        "## If you now want to get some information about car4's method3,\n",
        "\n",
        "print(car4.name.model)\n",
        "print(car4.name.year)\n"
      ],
      "metadata": {
        "id": "h1pvarCE7-ai",
        "colab": {
          "base_uri": "https://localhost:8080/"
        },
        "outputId": "1ff7ebe2-958c-4e0d-d63a-40db7a80524b"
      },
      "execution_count": null,
      "outputs": [
        {
          "output_type": "stream",
          "name": "stdout",
          "text": [
            "MERCEDES\n",
            "2014\n"
          ]
        }
      ]
    },
    {
      "cell_type": "code",
      "source": [
        "print(car5.name.model)\n",
        "print(car5.name.year)"
      ],
      "metadata": {
        "id": "I5ON8S6h7-Xd",
        "colab": {
          "base_uri": "https://localhost:8080/"
        },
        "outputId": "7bc171b8-2ee0-4042-8918-b1b00b7f182e"
      },
      "execution_count": null,
      "outputs": [
        {
          "output_type": "stream",
          "name": "stdout",
          "text": [
            "TATA\n",
            "2013\n"
          ]
        }
      ]
    },
    {
      "cell_type": "code",
      "source": [
        "car4.name.method1()"
      ],
      "metadata": {
        "id": "QqRNv_-77-Uo",
        "colab": {
          "base_uri": "https://localhost:8080/"
        },
        "outputId": "e8fef572-6d66-4006-d900-51ed54d29d13"
      },
      "execution_count": null,
      "outputs": [
        {
          "output_type": "stream",
          "name": "stdout",
          "text": [
            "MERCEDES is 2014 year old.\n"
          ]
        }
      ]
    },
    {
      "cell_type": "code",
      "source": [
        "car5.name.method1()"
      ],
      "metadata": {
        "id": "3n58UhC57-Rq",
        "colab": {
          "base_uri": "https://localhost:8080/"
        },
        "outputId": "0824beba-be5a-43dd-b424-7ecdb3fdc9a2"
      },
      "execution_count": null,
      "outputs": [
        {
          "output_type": "stream",
          "name": "stdout",
          "text": [
            "TATA is 2013 year old.\n"
          ]
        }
      ]
    },
    {
      "cell_type": "code",
      "source": [
        "## Inheritance in Python\n",
        "## we have created two classes i.e. parent class and Child Class. The child class inherits from the parent class.\n",
        "## A child class can also modify the behavior of the parent class as seen through the details() method.\n",
        "\n",
        "class Parent(object):\n",
        "\n",
        "  def __init__(self,name,age):\n",
        "    self.name = name\n",
        "    self.age = age\n",
        "\n",
        "  def display(self):\n",
        "    print(self.name)\n",
        "    print(self.age)\n",
        "\n",
        "  def details(self):\n",
        "    print(f\"My name is:{self.name}\")\n",
        "\n",
        "\n",
        "class Child(Parent):\n",
        "\n",
        "  def __init__(self, name ,age, salary, post):\n",
        "    self.salary = salary\n",
        "    self.post = post\n",
        "\n",
        "# invoking the __init__ of the parent class\n",
        "    Parent.__init__(self, name, age)\n",
        "\n",
        "  def details(self):\n",
        "    print(f\"Name : {self.name}\")\n",
        "    print(f\"salary : {self.salary}\")\n"
      ],
      "metadata": {
        "id": "aNkpeVdY7fQ-"
      },
      "execution_count": null,
      "outputs": []
    },
    {
      "cell_type": "code",
      "source": [
        "## create an object\n",
        "\n",
        "obj1 = Child(\"SOUVIK\", 20, 300000, \"STUDENT\")"
      ],
      "metadata": {
        "id": "uq1rZIwxsOhD"
      },
      "execution_count": null,
      "outputs": []
    },
    {
      "cell_type": "code",
      "source": [
        "obj1.details()"
      ],
      "metadata": {
        "id": "JvhlqBxEsOeR",
        "colab": {
          "base_uri": "https://localhost:8080/"
        },
        "outputId": "3ea03c4a-9983-492e-cb99-857b5b20ba1e"
      },
      "execution_count": null,
      "outputs": [
        {
          "output_type": "stream",
          "name": "stdout",
          "text": [
            "Name : SOUVIK\n",
            "salary : 300000\n"
          ]
        }
      ]
    },
    {
      "cell_type": "code",
      "source": [
        "obj1.display()"
      ],
      "metadata": {
        "colab": {
          "base_uri": "https://localhost:8080/"
        },
        "id": "SUFwR_Fcgrtp",
        "outputId": "18a826b6-59bc-4e5a-ab53-6fc4078a4ffc"
      },
      "execution_count": null,
      "outputs": [
        {
          "output_type": "stream",
          "name": "stdout",
          "text": [
            "SOUVIK\n",
            "20\n"
          ]
        }
      ]
    },
    {
      "cell_type": "code",
      "source": [
        "## Python Polymorphism : Polymorphism simply means having many forms.\n",
        "## For example, we need to determine if the given species of birds fly or not, using polymorphism we can do this using a single function.\n",
        "\n",
        "class Bird:\n",
        "\n",
        "\tdef intro(self):\n",
        "\t\tprint(\"There are many types of birds.\")\n",
        "\n",
        "\tdef flight(self):\n",
        "\t\tprint(\"Most of the birds can fly but some cannot.\")\n",
        "\n",
        "class sparrow(Bird):\n",
        "\n",
        "\tdef flight(self):\n",
        "\t\tprint(\"Sparrows can fly.\")\n",
        "\n",
        "class ostrich(Bird):\n",
        "\n",
        "\tdef flight(self):\n",
        "\t\tprint(\"Ostriches cannot fly.\")\n",
        "\n",
        "obj1 = Bird()\n",
        "obj2 = sparrow()\n",
        "obj3 = ostrich()\n",
        "\n",
        "obj2.intro()\n",
        "obj2.flight()"
      ],
      "metadata": {
        "colab": {
          "base_uri": "https://localhost:8080/"
        },
        "id": "FJGhkqkIgrpz",
        "outputId": "7de051d0-b473-406c-adbb-731d352373bd"
      },
      "execution_count": null,
      "outputs": [
        {
          "output_type": "stream",
          "name": "stdout",
          "text": [
            "There are many types of birds.\n",
            "Sparrows can fly.\n"
          ]
        }
      ]
    },
    {
      "cell_type": "code",
      "source": [
        "## Python Encapsulation\n",
        "### It describes the idea of wrapping data and the methods that work on data within one unit.\n",
        "## This puts restrictions on accessing variables and methods directly and can prevent the accidental modification of data.\n",
        "## To prevent accidental change, an object’s variable can only be changed by an object’s method.\n",
        "## Those types of variables are known as private variables.\n",
        "\n",
        "\n",
        "## python program to demonstrate private members.\n",
        "# Private attributes start with \"__\".\n",
        "\n",
        "class Parent:\n",
        "\n",
        "  def __init__(self):\n",
        "    self.x = \"parent\"\n",
        "    self.__x = \"child\"\n",
        "\n",
        "class Child(Parent):\n",
        "\n",
        "  def __init__(self):\n",
        "\n",
        "    ## Calling constructor of Parent class\n",
        "    Parent.__init__(self)\n",
        "\n",
        "    # Calling private members of parent class\n",
        "    print(self.__x)"
      ],
      "metadata": {
        "id": "6EVhEN0ijH7G"
      },
      "execution_count": 1,
      "outputs": []
    },
    {
      "cell_type": "code",
      "source": [
        "obj1 = Parent()"
      ],
      "metadata": {
        "id": "dn_JL9SAjH4j"
      },
      "execution_count": 6,
      "outputs": []
    },
    {
      "cell_type": "code",
      "source": [],
      "metadata": {
        "id": "qinY9jY_jH1c"
      },
      "execution_count": null,
      "outputs": []
    },
    {
      "cell_type": "code",
      "source": [],
      "metadata": {
        "id": "_0GlbB4cjHy6"
      },
      "execution_count": null,
      "outputs": []
    },
    {
      "cell_type": "code",
      "source": [],
      "metadata": {
        "id": "ih_KzeLHjHv_"
      },
      "execution_count": null,
      "outputs": []
    },
    {
      "cell_type": "code",
      "source": [],
      "metadata": {
        "id": "q5hn30VijHtq"
      },
      "execution_count": null,
      "outputs": []
    },
    {
      "cell_type": "code",
      "source": [],
      "metadata": {
        "id": "G7PiBMsGjHqq"
      },
      "execution_count": null,
      "outputs": []
    },
    {
      "cell_type": "code",
      "source": [],
      "metadata": {
        "id": "Rm2YnC6TjHn2"
      },
      "execution_count": null,
      "outputs": []
    },
    {
      "cell_type": "code",
      "source": [],
      "metadata": {
        "id": "GsWYA-PjjHkz"
      },
      "execution_count": null,
      "outputs": []
    },
    {
      "cell_type": "code",
      "source": [],
      "metadata": {
        "id": "xJRUycPsgrjF"
      },
      "execution_count": null,
      "outputs": []
    },
    {
      "cell_type": "code",
      "source": [],
      "metadata": {
        "id": "U1_Mgg5psObh"
      },
      "execution_count": null,
      "outputs": []
    },
    {
      "cell_type": "code",
      "source": [],
      "metadata": {
        "id": "wo9o3K0IsOYp"
      },
      "execution_count": null,
      "outputs": []
    },
    {
      "cell_type": "code",
      "source": [],
      "metadata": {
        "id": "sT1hQAECsOVc"
      },
      "execution_count": null,
      "outputs": []
    },
    {
      "cell_type": "code",
      "execution_count": null,
      "metadata": {
        "id": "D8V3xd9_wzZ2"
      },
      "outputs": [],
      "source": [
        "## Python Class : A class is a collection of objects.\n",
        "## A class contains the blueprints or the prototype from which the objects are being created.\n",
        "## It is a logical entity that contains some attributes and methods.\n",
        "\n",
        "class souvik:\n",
        "  pass\n"
      ]
    },
    {
      "cell_type": "code",
      "source": [
        "## Creating Objects\n",
        "## Any single integer or any single string is an object.\n",
        "\n",
        "obj1 = souvik()"
      ],
      "metadata": {
        "id": "uZmCqoT3SKU6"
      },
      "execution_count": null,
      "outputs": []
    },
    {
      "cell_type": "code",
      "source": [
        "## self in python class\n",
        "## Example\n",
        "## self is used within the __init__ method to assign values to instance variables.\n",
        "## When these methods are called using an instance of the class (my_car), self implicitly refers to that instance, allowing access to its attributes and methods.\n",
        "\n",
        "\n",
        "class Bike:\n",
        "    def __init__(self, model, year):\n",
        "        self.model = model\n",
        "        self.year = year\n",
        "\n",
        "    def get_bike_info(self):\n",
        "        print(f\"{self.model} {self.year}\")\n",
        "\n",
        "# Creating an instance of class Car\n",
        "my_bike = Bike(\"HondaSP\", 2024)\n",
        "\n",
        "# Accessing attributes and calling methods using the instance and self\n",
        "my_bike.get_bike_info()\n"
      ],
      "metadata": {
        "colab": {
          "base_uri": "https://localhost:8080/"
        },
        "id": "jclAulRUXDBO",
        "outputId": "e64a097b-6271-497d-8758-35cb10e1ecbe"
      },
      "execution_count": null,
      "outputs": [
        {
          "output_type": "stream",
          "name": "stdout",
          "text": [
            "HondaSP 2024\n"
          ]
        }
      ]
    },
    {
      "cell_type": "markdown",
      "source": [
        "**self is a reference to the instance of the class itself, and it is used to access variables and methods within the class.**\n",
        "\n",
        "When you create an instance of a class, Python automatically passes the instance as the first argument to the methods defined in the class.\n",
        "\n",
        "By convention, this first parameter is named self, but you can name it whatever you like, though it's recommended to stick with self for clarity and consistency."
      ],
      "metadata": {
        "id": "CJUlrC_Hfw3u"
      }
    },
    {
      "cell_type": "code",
      "source": [
        "## Python init method"
      ],
      "metadata": {
        "id": "RD1DLSW-XC79"
      },
      "execution_count": null,
      "outputs": []
    },
    {
      "cell_type": "markdown",
      "source": [
        "In Python, the __init__ method is a special method used for initializing newly created objects.\n",
        "\n",
        "It's also known as a constructor in object-oriented programming.\n",
        "\n",
        "This method gets called automatically when you create a new instance of a class.\n",
        "\n",
        "It's typically used to initialize instance variables or perform any setup that's needed when an object is created."
      ],
      "metadata": {
        "id": "y9YOGRQ_lOTG"
      }
    },
    {
      "cell_type": "code",
      "source": [],
      "metadata": {
        "id": "qK5uNsjWXCyy"
      },
      "execution_count": null,
      "outputs": []
    },
    {
      "cell_type": "code",
      "source": [],
      "metadata": {
        "id": "eA5uuvXJXCvD"
      },
      "execution_count": null,
      "outputs": []
    },
    {
      "cell_type": "code",
      "source": [],
      "metadata": {
        "id": "h9dxB9vXXCr7"
      },
      "execution_count": null,
      "outputs": []
    },
    {
      "cell_type": "code",
      "source": [],
      "metadata": {
        "id": "UmTcOrhFXCpG"
      },
      "execution_count": null,
      "outputs": []
    },
    {
      "cell_type": "code",
      "source": [],
      "metadata": {
        "id": "x8v9DRfIXCl9"
      },
      "execution_count": null,
      "outputs": []
    },
    {
      "cell_type": "code",
      "source": [
        "\n"
      ],
      "metadata": {
        "id": "oV3ArDMISJUU"
      },
      "execution_count": null,
      "outputs": []
    },
    {
      "cell_type": "code",
      "source": [],
      "metadata": {
        "id": "bJ1L8h_1SJQz"
      },
      "execution_count": null,
      "outputs": []
    },
    {
      "cell_type": "code",
      "source": [],
      "metadata": {
        "id": "fRHfXoiMSJOW"
      },
      "execution_count": null,
      "outputs": []
    },
    {
      "cell_type": "code",
      "source": [],
      "metadata": {
        "id": "ldl5BiFUSJLW"
      },
      "execution_count": null,
      "outputs": []
    },
    {
      "cell_type": "code",
      "source": [],
      "metadata": {
        "id": "gv8d1jpFSJIU"
      },
      "execution_count": null,
      "outputs": []
    },
    {
      "cell_type": "code",
      "source": [],
      "metadata": {
        "id": "yvuze7W_SJFK"
      },
      "execution_count": null,
      "outputs": []
    },
    {
      "cell_type": "code",
      "source": [],
      "metadata": {
        "id": "CQ_vdArbSJCK"
      },
      "execution_count": null,
      "outputs": []
    },
    {
      "cell_type": "code",
      "source": [],
      "metadata": {
        "id": "h4JGHGuZSI_Z"
      },
      "execution_count": null,
      "outputs": []
    },
    {
      "cell_type": "code",
      "source": [],
      "metadata": {
        "id": "YUS1MwGKSI8_"
      },
      "execution_count": null,
      "outputs": []
    },
    {
      "cell_type": "code",
      "source": [],
      "metadata": {
        "id": "8MOk_2bBSI6z"
      },
      "execution_count": null,
      "outputs": []
    },
    {
      "cell_type": "code",
      "source": [],
      "metadata": {
        "id": "dSFr0V6sSI4D"
      },
      "execution_count": null,
      "outputs": []
    },
    {
      "cell_type": "code",
      "source": [],
      "metadata": {
        "id": "hlXxtKzxSI0M"
      },
      "execution_count": null,
      "outputs": []
    },
    {
      "cell_type": "code",
      "source": [],
      "metadata": {
        "id": "io-EdwI6SIvC"
      },
      "execution_count": null,
      "outputs": []
    },
    {
      "cell_type": "code",
      "source": [],
      "metadata": {
        "id": "gMsIBMEsSIqW"
      },
      "execution_count": null,
      "outputs": []
    },
    {
      "cell_type": "code",
      "source": [],
      "metadata": {
        "id": "k5Cx0XM1SInf"
      },
      "execution_count": null,
      "outputs": []
    }
  ]
}