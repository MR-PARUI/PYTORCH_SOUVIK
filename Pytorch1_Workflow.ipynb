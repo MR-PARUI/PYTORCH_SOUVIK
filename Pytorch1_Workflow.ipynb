{
  "nbformat": 4,
  "nbformat_minor": 0,
  "metadata": {
    "colab": {
      "provenance": []
    },
    "kernelspec": {
      "name": "python3",
      "display_name": "Python 3"
    },
    "language_info": {
      "name": "python"
    }
  },
  "cells": [
    {
      "cell_type": "code",
      "execution_count": 361,
      "metadata": {
        "id": "iWq-FjV1okqu"
      },
      "outputs": [],
      "source": [
        "Pytorch_workflow = {1: \"Data (Prepare and Load)\",\n",
        "                    2: \"Building a Model\",\n",
        "                    3: \"Fitting the model to data (Training process)\",\n",
        "                    4: \"Making predictions and Evaluating a model\",\n",
        "                    5: \"Saving and Loading a model\",\n",
        "                    6: \"Putting it all together\"}"
      ]
    },
    {
      "cell_type": "markdown",
      "source": [
        "**STEP 1 : CREATING DATA OR DATA PREPROCESSING**"
      ],
      "metadata": {
        "id": "34gSe-4gagui"
      }
    },
    {
      "cell_type": "code",
      "source": [
        "import torch\n",
        "\n",
        "# nn contains all of PyTorch's building blocks for neural networks\n",
        "from torch import nn\n",
        "\n",
        "import matplotlib.pyplot as plt"
      ],
      "metadata": {
        "id": "CdnyKn6nnT2h"
      },
      "execution_count": 362,
      "outputs": []
    },
    {
      "cell_type": "code",
      "source": [
        "tensor1 = torch.arange(1,10).reshape(3,3)\n",
        "tensor1"
      ],
      "metadata": {
        "colab": {
          "base_uri": "https://localhost:8080/"
        },
        "id": "riBGm3AsOmWO",
        "outputId": "f003e005-9f84-4e38-8353-e745fc305577"
      },
      "execution_count": 363,
      "outputs": [
        {
          "output_type": "execute_result",
          "data": {
            "text/plain": [
              "tensor([[1, 2, 3],\n",
              "        [4, 5, 6],\n",
              "        [7, 8, 9]])"
            ]
          },
          "metadata": {},
          "execution_count": 363
        }
      ]
    },
    {
      "cell_type": "code",
      "source": [
        "tensor1[:]"
      ],
      "metadata": {
        "colab": {
          "base_uri": "https://localhost:8080/"
        },
        "id": "MzYXLfr0OmTG",
        "outputId": "b7eddbfe-c676-479c-a5aa-b549a8ab3079"
      },
      "execution_count": 364,
      "outputs": [
        {
          "output_type": "execute_result",
          "data": {
            "text/plain": [
              "tensor([[1, 2, 3],\n",
              "        [4, 5, 6],\n",
              "        [7, 8, 9]])"
            ]
          },
          "metadata": {},
          "execution_count": 364
        }
      ]
    },
    {
      "cell_type": "code",
      "source": [
        "# Select the first row but return it as a 2D array with one row.\n",
        "\n",
        "tensor1[:1]"
      ],
      "metadata": {
        "colab": {
          "base_uri": "https://localhost:8080/"
        },
        "id": "UMjltc9LOmQN",
        "outputId": "b8ac13e4-2f0d-4ee9-ab96-8bf1215c151d"
      },
      "execution_count": 365,
      "outputs": [
        {
          "output_type": "execute_result",
          "data": {
            "text/plain": [
              "tensor([[1, 2, 3]])"
            ]
          },
          "metadata": {},
          "execution_count": 365
        }
      ]
    },
    {
      "cell_type": "code",
      "source": [
        "tensor1[:2]"
      ],
      "metadata": {
        "colab": {
          "base_uri": "https://localhost:8080/"
        },
        "id": "FtAyVPUzOmNC",
        "outputId": "d1d5eb48-ddcd-45ee-f779-57a7e2333f1b"
      },
      "execution_count": 366,
      "outputs": [
        {
          "output_type": "execute_result",
          "data": {
            "text/plain": [
              "tensor([[1, 2, 3],\n",
              "        [4, 5, 6]])"
            ]
          },
          "metadata": {},
          "execution_count": 366
        }
      ]
    },
    {
      "cell_type": "code",
      "source": [
        "tensor1[:3]"
      ],
      "metadata": {
        "colab": {
          "base_uri": "https://localhost:8080/"
        },
        "id": "1jQ70FhfOmJ-",
        "outputId": "d4b6c918-38fc-40ac-dd35-6d0f5e0f169e"
      },
      "execution_count": 367,
      "outputs": [
        {
          "output_type": "execute_result",
          "data": {
            "text/plain": [
              "tensor([[1, 2, 3],\n",
              "        [4, 5, 6],\n",
              "        [7, 8, 9]])"
            ]
          },
          "metadata": {},
          "execution_count": 367
        }
      ]
    },
    {
      "cell_type": "code",
      "source": [
        "tensor1[0:1]"
      ],
      "metadata": {
        "colab": {
          "base_uri": "https://localhost:8080/"
        },
        "id": "sUrBgu-9OmHP",
        "outputId": "6bf36582-4819-428f-92df-25d41582543e"
      },
      "execution_count": 368,
      "outputs": [
        {
          "output_type": "execute_result",
          "data": {
            "text/plain": [
              "tensor([[1, 2, 3]])"
            ]
          },
          "metadata": {},
          "execution_count": 368
        }
      ]
    },
    {
      "cell_type": "code",
      "source": [
        "tensor1[0:2]"
      ],
      "metadata": {
        "colab": {
          "base_uri": "https://localhost:8080/"
        },
        "id": "DKpcqbeqOmEV",
        "outputId": "b9750988-8cd8-43bb-9583-c795330a2479"
      },
      "execution_count": 369,
      "outputs": [
        {
          "output_type": "execute_result",
          "data": {
            "text/plain": [
              "tensor([[1, 2, 3],\n",
              "        [4, 5, 6]])"
            ]
          },
          "metadata": {},
          "execution_count": 369
        }
      ]
    },
    {
      "cell_type": "code",
      "source": [
        "# slicing operation that selects a specific slice across the dimensions of the tensor.\n",
        "\n",
        "## : represents select all row value\n",
        "## ,0 represents select elements from the first column\n",
        "## tensor1[row,column]\n",
        "\n",
        "tensor1[:,0]"
      ],
      "metadata": {
        "colab": {
          "base_uri": "https://localhost:8080/"
        },
        "id": "woIZf9XqOl7-",
        "outputId": "9bda55e2-4cc1-480a-bad5-b12514d74a8c"
      },
      "execution_count": 370,
      "outputs": [
        {
          "output_type": "execute_result",
          "data": {
            "text/plain": [
              "tensor([1, 4, 7])"
            ]
          },
          "metadata": {},
          "execution_count": 370
        }
      ]
    },
    {
      "cell_type": "code",
      "source": [
        "## : represents select all row value\n",
        "## ,1 represents select elements from the second column\n",
        "\n",
        "tensor1[:,1]"
      ],
      "metadata": {
        "id": "GeMKX46MOl5P",
        "colab": {
          "base_uri": "https://localhost:8080/"
        },
        "outputId": "19ee3056-da45-4d94-b0ad-7c97b1cf2d64"
      },
      "execution_count": 371,
      "outputs": [
        {
          "output_type": "execute_result",
          "data": {
            "text/plain": [
              "tensor([2, 5, 8])"
            ]
          },
          "metadata": {},
          "execution_count": 371
        }
      ]
    },
    {
      "cell_type": "code",
      "source": [
        "## 0:1 represents select row value index 0 to 0\n",
        "## ,0 represents select elements from the first column\n",
        "\n",
        "tensor1[0:1,0]"
      ],
      "metadata": {
        "id": "9QRPMOn0Ol2k",
        "colab": {
          "base_uri": "https://localhost:8080/"
        },
        "outputId": "943a5c37-4b2a-4d92-838b-c9fea7fce959"
      },
      "execution_count": 372,
      "outputs": [
        {
          "output_type": "execute_result",
          "data": {
            "text/plain": [
              "tensor([1])"
            ]
          },
          "metadata": {},
          "execution_count": 372
        }
      ]
    },
    {
      "cell_type": "code",
      "source": [
        "tensor1[0:2,0]"
      ],
      "metadata": {
        "id": "IBTaey0VOlz3",
        "colab": {
          "base_uri": "https://localhost:8080/"
        },
        "outputId": "6863235b-35d2-4044-9887-fa6e08cb56da"
      },
      "execution_count": 373,
      "outputs": [
        {
          "output_type": "execute_result",
          "data": {
            "text/plain": [
              "tensor([1, 4])"
            ]
          },
          "metadata": {},
          "execution_count": 373
        }
      ]
    },
    {
      "cell_type": "code",
      "source": [
        "## row index 0 to index 1 and all column value\n",
        "\n",
        "tensor1[0:2,:]"
      ],
      "metadata": {
        "id": "pfQYZr7oOlvE",
        "colab": {
          "base_uri": "https://localhost:8080/"
        },
        "outputId": "b2fb92ef-e09c-4a7b-ef94-8a5fbee9c37e"
      },
      "execution_count": 374,
      "outputs": [
        {
          "output_type": "execute_result",
          "data": {
            "text/plain": [
              "tensor([[1, 2, 3],\n",
              "        [4, 5, 6]])"
            ]
          },
          "metadata": {},
          "execution_count": 374
        }
      ]
    },
    {
      "cell_type": "code",
      "source": [
        "## Let's create our data as a straight line. (y = w.x + b)\n",
        "\n",
        "## x = features, y = labels\n",
        "\n",
        "## We'll use linear regression to create the data with known parameters (things that can be learned by a model) and then we'll use PyTorch to see if we can build model to estimate these parameters using gradient descent.\n",
        "\n",
        "## create known parameters\n",
        "\n",
        "w = 0.7\n",
        "b = 0.3\n",
        "\n",
        "## create data\n",
        "\n",
        "start = 0\n",
        "end = 1\n",
        "step = 0.02\n",
        "\n",
        "x = torch.arange(0,1,0.02).unsqueeze(dim=1)\n",
        "\n",
        "y = w * x + b"
      ],
      "metadata": {
        "id": "Drx7phuJOlrv"
      },
      "execution_count": 375,
      "outputs": []
    },
    {
      "cell_type": "code",
      "source": [
        "# 50 rows and 1 column\n",
        "## x represents a batch of data where each sample has only one feature. (50 no of samples and one feature)\n",
        "\n",
        "x.shape"
      ],
      "metadata": {
        "id": "wwvCEGlsOlpI",
        "colab": {
          "base_uri": "https://localhost:8080/"
        },
        "outputId": "294c0668-e637-4b56-c6f7-84e629b23d70"
      },
      "execution_count": 376,
      "outputs": [
        {
          "output_type": "execute_result",
          "data": {
            "text/plain": [
              "torch.Size([50, 1])"
            ]
          },
          "metadata": {},
          "execution_count": 376
        }
      ]
    },
    {
      "cell_type": "code",
      "source": [
        "x[:5]"
      ],
      "metadata": {
        "id": "UtMmYVHSOljZ",
        "colab": {
          "base_uri": "https://localhost:8080/"
        },
        "outputId": "d7bd47f6-7c1a-40e7-c1b3-53978e344335"
      },
      "execution_count": 377,
      "outputs": [
        {
          "output_type": "execute_result",
          "data": {
            "text/plain": [
              "tensor([[0.0000],\n",
              "        [0.0200],\n",
              "        [0.0400],\n",
              "        [0.0600],\n",
              "        [0.0800]])"
            ]
          },
          "metadata": {},
          "execution_count": 377
        }
      ]
    },
    {
      "cell_type": "code",
      "source": [
        "y[:5]"
      ],
      "metadata": {
        "id": "Y92wh_qQmGHG",
        "colab": {
          "base_uri": "https://localhost:8080/"
        },
        "outputId": "9bb179a0-31ad-4035-e4e2-f96c39a31099"
      },
      "execution_count": 378,
      "outputs": [
        {
          "output_type": "execute_result",
          "data": {
            "text/plain": [
              "tensor([[0.3000],\n",
              "        [0.3140],\n",
              "        [0.3280],\n",
              "        [0.3420],\n",
              "        [0.3560]])"
            ]
          },
          "metadata": {},
          "execution_count": 378
        }
      ]
    },
    {
      "cell_type": "code",
      "source": [
        "## Now we're going to move towards building a model that can learn the relationship between X (features) and y (labels).\n",
        "\n",
        "## Split data into training and test sets\n",
        "## But before we build a model we need to split it up.\n",
        "## One of most important steps in a machine learning project is creating a training and test set (and when required, a validation set).\n",
        "\n",
        "## 80% for training and 20% for testing\n",
        "\n",
        "## 80% of the data for training the model (X_train and y_train) and 20% for testing the model (X_test and y_test).\n",
        "\n",
        "train_split = int(0.8 * len(x))\n",
        "\n",
        "x_train, y_train = x[:train_split], y[:train_split]\n",
        "\n",
        "x_test, y_test = x[train_split:], y[train_split:]"
      ],
      "metadata": {
        "id": "HA3KHfU-jpAq"
      },
      "execution_count": 379,
      "outputs": []
    },
    {
      "cell_type": "code",
      "source": [
        "## Here total 50 samples are there, 50 samples 80% for training = 40 and test = 10\n",
        "\n",
        "train_split"
      ],
      "metadata": {
        "id": "tSvF3y2sjo5Z",
        "colab": {
          "base_uri": "https://localhost:8080/"
        },
        "outputId": "54991a7f-342f-4488-fbb5-d36d18975685"
      },
      "execution_count": 380,
      "outputs": [
        {
          "output_type": "execute_result",
          "data": {
            "text/plain": [
              "40"
            ]
          },
          "metadata": {},
          "execution_count": 380
        }
      ]
    },
    {
      "cell_type": "code",
      "source": [
        "len(x_train), len(y_train), len(x_test), len(y_test)"
      ],
      "metadata": {
        "id": "QRnatG5ejozP",
        "colab": {
          "base_uri": "https://localhost:8080/"
        },
        "outputId": "531fc415-64b9-4de8-ea5e-b033d1d624d3"
      },
      "execution_count": 381,
      "outputs": [
        {
          "output_type": "execute_result",
          "data": {
            "text/plain": [
              "(40, 40, 10, 10)"
            ]
          },
          "metadata": {},
          "execution_count": 381
        }
      ]
    },
    {
      "cell_type": "code",
      "source": [
        "## The model we create is going to try and learn the relationship between X_train & y_train and then we will evaluate what it learns on X_test and y_test.\n",
        "\n",
        "## Let's create a function to visualize it.\n",
        "\n",
        "def plot_view(train_data = x_train, train_labels = y_train, test_data = x_test, test_labels = y_test, predictions=None) :\n",
        "\n",
        "  plt.figure(figsize = (4,4))\n",
        "\n",
        "  #plot training data in blue\n",
        "  plt.scatter(train_data, train_labels, c=\"b\", s = 4, label=\"Training Data\")\n",
        "\n",
        "  plt.scatter(test_data,test_labels, c=\"g\", s = 4, label=\"Test Data\")\n",
        "\n",
        "  if predictions is not None:\n",
        "    # Plot the predictions in red (predictions were made on the test data)\n",
        "    plt.scatter(test_data, predictions, c=\"r\", s=4, label=\"Predictions\")\n",
        "\n",
        "  # Show the legend\n",
        "  plt.legend(prop={\"size\": 9})\n"
      ],
      "metadata": {
        "id": "NMUsSvdnjowW"
      },
      "execution_count": 382,
      "outputs": []
    },
    {
      "cell_type": "code",
      "source": [
        "plot_view()"
      ],
      "metadata": {
        "id": "p9XblfSbjotI",
        "colab": {
          "base_uri": "https://localhost:8080/",
          "height": 368
        },
        "outputId": "e786fa3b-87cd-4a27-9296-7b94b75019e5"
      },
      "execution_count": 383,
      "outputs": [
        {
          "output_type": "display_data",
          "data": {
            "text/plain": [
              "<Figure size 400x400 with 1 Axes>"
            ],
            "image/png": "[encoded data removed]"
          },
          "metadata": {}
        }
      ]
    },
    {
      "cell_type": "markdown",
      "source": [
        "**STEP 2 : BUILD MODEL**"
      ],
      "metadata": {
        "id": "JmSy-lCZwpZe"
      }
    },
    {
      "cell_type": "code",
      "source": [
        "## Now we've got some data, let's build a model to use the blue dots to predict the green dots.\n",
        "\n",
        "## Let's replicate a standard linear regression model using pure PyTorch.\n",
        "\n",
        "class Linearclass(nn.Module):\n",
        "\n",
        "  def __init__(self):\n",
        "\n",
        "    super().__init__()\n",
        "\n",
        "    #start with random weights ,this will get adjusted as the model learns.\n",
        "    # can we update this value with gradient descent? (requires_grad=True)\n",
        "    # initialize model parameters\n",
        "\n",
        "    self.weights = nn.Parameter(torch.randn(1,dtype=torch.float, requires_grad=True))\n",
        "\n",
        "    self.bias = nn.Parameter(torch.randn(1,dtype=torch.float,requires_grad=True))\n",
        "\n",
        "## forward method defined computation of the model\n",
        "\n",
        "  def forward(self, x:torch.tensor) -> torch.Tensor:\n",
        "\n",
        "    ## \"x\" is the input data (e.g. training/testing features)\n",
        "    ## linear regression formula (y = w*x + b)\n",
        "\n",
        "    return self.weights * x + self.bias"
      ],
      "metadata": {
        "id": "FOTXqobZ5EZ-"
      },
      "execution_count": 384,
      "outputs": []
    },
    {
      "cell_type": "code",
      "source": [
        "## PyTorch model building essentials\n",
        "## Four essential modules you can use to create almost any kind of neural network you can imagine.\n",
        "## torch.nn, torch.optim, torch.utils.data.Dataset and torch.utils.data.DataLoader\n",
        "\n",
        "## almost everything in a PyTorch neural network comes from torch.nn\n",
        "## nn.Module contains the larger building blocks for neural networks (layers) (base class for all neural network module)\n",
        "## nn.Parameter contains the smaller parameters like weights and biases (put these together to make nn.Module(s))\n",
        "## forward() tells the larger blocks how to make calculations on inputs (tensors full of data) within nn.Module(s)\n",
        "\n",
        "## torch.optim contains optimization methods on how to improve the parameters within nn.Parameter to better represent input data\n",
        "\n",
        "## Basic building blocks of creating a PyTorch model by subclassing nn.Module. For objects that subclass nn.Module, the forward() method must be defined."
      ],
      "metadata": {
        "id": "akAABziX5EXC"
      },
      "execution_count": 385,
      "outputs": []
    },
    {
      "cell_type": "code",
      "source": [
        "## Now, Checking the contents of a PyTorch model\n",
        "\n",
        "# Set manual seed since nn.Parameter are randomly initialzied\n",
        "torch.manual_seed(42)\n",
        "\n",
        "# create an instance of the model\n",
        "model1 = Linearclass()\n",
        "\n",
        "# Check the nn.Parameter(s) within the nn.Module subclass we created\n",
        "list(model1.parameters())"
      ],
      "metadata": {
        "id": "Rkz9QUki5EUm",
        "colab": {
          "base_uri": "https://localhost:8080/"
        },
        "outputId": "0414547a-9721-4632-d2e9-5f845ca119bb"
      },
      "execution_count": 386,
      "outputs": [
        {
          "output_type": "execute_result",
          "data": {
            "text/plain": [
              "[Parameter containing:\n",
              " tensor([0.3367], requires_grad=True),\n",
              " Parameter containing:\n",
              " tensor([0.1288], requires_grad=True)]"
            ]
          },
          "metadata": {},
          "execution_count": 386
        }
      ]
    },
    {
      "cell_type": "code",
      "source": [
        "## We can also get the state (what the model contains) of the model using .state_dict()\n",
        "## List named parameters\n",
        "\n",
        "model1.state_dict()"
      ],
      "metadata": {
        "id": "s1W6GSp-5EOT",
        "colab": {
          "base_uri": "https://localhost:8080/"
        },
        "outputId": "a06aeccc-12d3-4d51-acc4-cdb9e4a01c30"
      },
      "execution_count": 387,
      "outputs": [
        {
          "output_type": "execute_result",
          "data": {
            "text/plain": [
              "OrderedDict([('weights', tensor([0.3367])), ('bias', tensor([0.1288]))])"
            ]
          },
          "metadata": {},
          "execution_count": 387
        }
      ]
    },
    {
      "cell_type": "code",
      "source": [
        "## Making predictions using torch.inference_mode()\n",
        "\n",
        "## To check this we can pass it the test data X_test to see how closely it predicts y_test.\n",
        "\n",
        "## When we pass data to our model, it'll go through the model's forward() method and produce a result using the computation we've defined.\n",
        "\n",
        "## Let's make some predictions."
      ],
      "metadata": {
        "id": "z8QZ2mRM5EKg"
      },
      "execution_count": 388,
      "outputs": []
    },
    {
      "cell_type": "code",
      "source": [
        "## torch.inference_mode() is used when using a model for inference (making predictions).\n",
        "\n",
        "## torch.inference_mode() turns off a bunch of things.\n",
        "\n",
        "## (like gradient tracking, which is necessary for training but not for inference) to make forward-passes (data going through the forward() method) faster.\n",
        "\n",
        "## In older PyTorch code, you may also see torch.no_grad() being used for inference. While torch.inference_mode() and torch.no_grad() do similar things\n",
        "\n",
        "with torch.inference_mode():\n",
        "\n",
        "  y_preds = model1(x_test)"
      ],
      "metadata": {
        "id": "7LSUpnvoaTZj"
      },
      "execution_count": 389,
      "outputs": []
    },
    {
      "cell_type": "code",
      "source": [
        "# check the prediction\n",
        "\n",
        "## Notice how there's one prediction value per testing sample.\n",
        "\n",
        "## This is because of the kind of data we're using. For our straight line, one X value maps to one y value.\n",
        "\n",
        "## However, machine learning models are very flexible. You could have 100 X values mapping to one, two, three or 10 y values.\n",
        "\n",
        "print(f\"No of test samples : {len(x_test)}\")\n",
        "print(f\"No of predictions samples : {len(y_preds)}\")\n",
        "print(f\"original labels value : {y_test}\")\n",
        "print(f\"predicted labels value : {y_preds}\")"
      ],
      "metadata": {
        "id": "2Dn2BqmwaTWE",
        "colab": {
          "base_uri": "https://localhost:8080/"
        },
        "outputId": "af2ea625-682b-484a-c2f9-746d0964e316"
      },
      "execution_count": 390,
      "outputs": [
        {
          "output_type": "stream",
          "name": "stdout",
          "text": [
            "No of test samples : 10\n",
            "No of predictions samples : 10\n",
            "original labels value : tensor([[0.8600],\n",
            "        [0.8740],\n",
            "        [0.8880],\n",
            "        [0.9020],\n",
            "        [0.9160],\n",
            "        [0.9300],\n",
            "        [0.9440],\n",
            "        [0.9580],\n",
            "        [0.9720],\n",
            "        [0.9860]])\n",
            "predicted labels value : tensor([[0.3982],\n",
            "        [0.4049],\n",
            "        [0.4116],\n",
            "        [0.4184],\n",
            "        [0.4251],\n",
            "        [0.4318],\n",
            "        [0.4386],\n",
            "        [0.4453],\n",
            "        [0.4520],\n",
            "        [0.4588]])\n"
          ]
        }
      ]
    },
    {
      "cell_type": "code",
      "source": [
        "# let's visualize them with predicted value\n",
        "\n",
        "plot_view(predictions = y_preds)"
      ],
      "metadata": {
        "id": "kQy5lsn2aTTE",
        "colab": {
          "base_uri": "https://localhost:8080/",
          "height": 368
        },
        "outputId": "9ca5f66b-78a6-408d-87b2-b3f52e633314"
      },
      "execution_count": 391,
      "outputs": [
        {
          "output_type": "display_data",
          "data": {
            "text/plain": [
              "<Figure size 400x400 with 1 Axes>"
            ],
            "image/png": "[encoded data removed]"
          },
          "metadata": {}
        }
      ]
    },
    {
      "cell_type": "code",
      "source": [
        "# Error= (Actual - predicted)\n",
        "\n",
        "y_test - y_preds"
      ],
      "metadata": {
        "id": "wxV2ZD7WaTP4",
        "colab": {
          "base_uri": "https://localhost:8080/"
        },
        "outputId": "e2b950ca-fe94-4d55-aff1-78b7de1363c5"
      },
      "execution_count": 392,
      "outputs": [
        {
          "output_type": "execute_result",
          "data": {
            "text/plain": [
              "tensor([[0.4618],\n",
              "        [0.4691],\n",
              "        [0.4764],\n",
              "        [0.4836],\n",
              "        [0.4909],\n",
              "        [0.4982],\n",
              "        [0.5054],\n",
              "        [0.5127],\n",
              "        [0.5200],\n",
              "        [0.5272]])"
            ]
          },
          "metadata": {},
          "execution_count": 392
        }
      ]
    },
    {
      "cell_type": "code",
      "source": [
        "## predictions look pretty bad...\n",
        "\n",
        "## This make sense though when you remember our model is just using random parameter values to make predictions.\n",
        "\n",
        "## It hasn't even looked at the blue dots to try to predict the green dots.\n",
        "\n",
        "## Time to change that."
      ],
      "metadata": {
        "id": "ryFqgqMFaTNF"
      },
      "execution_count": 393,
      "outputs": []
    },
    {
      "cell_type": "markdown",
      "source": [
        "**STEP 3 : TRAIN MODEL**"
      ],
      "metadata": {
        "id": "KmiLdjHj_jz1"
      }
    },
    {
      "cell_type": "code",
      "source": [
        "## Right now our model is making predictions using random parameters to make calculations, it's basically guessing (randomly).\n",
        "\n",
        "## To fix that, we can update its internal parameters (also refer to parameters as patterns)\n",
        "\n",
        "## weights and bias values we set randomly using nn.Parameter() and torch.randn() to be something that better represents the data.\n",
        "\n",
        "## Much of the time you won't know what the ideal parameters are for a model."
      ],
      "metadata": {
        "id": "hWgquabV_jY6"
      },
      "execution_count": 394,
      "outputs": []
    },
    {
      "cell_type": "code",
      "source": [
        "## Creating a loss function and optimizer in PyTorch\n",
        "\n",
        "## For our model to update its parameters on its own, we'll need to add a few more things to our recipe.\n",
        "\n",
        "## And that's a loss function as well as an optimizer.\n",
        "\n",
        "## Loss function : Measures how wrong your models predictions labels(e.g. y_preds) are compared to the truth labels (e.g. y_test).\n",
        "## Mean absolute error (MAE) for regression problems (torch.nn.L1Loss()).\n",
        "##Binary cross entropy for binary classification problems (torch.nn.BCELoss()).\n",
        "\n",
        "## Optimizer: Tells your model how to update its internal parameters to best lower the loss.\n",
        "## Stochastic gradient descent (torch.optim.SGD()). Adam optimizer (torch.optim.Adam()).\n",
        "\n",
        "\n",
        "## Let's create a loss function and an optimizer we can use to help improve our model.\n",
        "## loss function for regression problems (predicting a number) or binary cross entropy loss function for classification problems (predicting one thing or another)."
      ],
      "metadata": {
        "id": "YohCsSxe_jWX"
      },
      "execution_count": 395,
      "outputs": []
    },
    {
      "cell_type": "code",
      "source": [
        "## For our problem, since we're predicting a number, let's use MAE (which is under torch.nn.L1Loss()) in PyTorch as our loss function.\n",
        "\n",
        "## Loss Function::   MAE = absolute difference (y_pred[0] - y_test) and repeat calculation of all sample and take the mean.\n",
        "\n",
        "## Optimizer::  we'll use SGD, torch.optim.SGD(params, lr) where:\n",
        "\n",
        "## params is the target(predicted) model parameters you'd like to optimize (e.g. the weights and bias values we randomly set before).\n",
        "## lr is the learning rate you'd like the optimizer to update the parameters.\n",
        "\n",
        "## higher lr means the optimizer will try larger updates (these can sometimes be too large and the optimizer will fail to work)\n",
        "## lower lr means the optimizer will try smaller updates (these can sometimes be too small and the optimizer will take too long to find the ideal values)\n",
        "\n",
        "## The learning rate is considered a hyperparameter.\n",
        "## Common starting values for the learning rate are 0.01, 0.001, 0.0001, however, these can also be adjusted over time (this is called learning rate scheduling)\n"
      ],
      "metadata": {
        "id": "QqLZDjR1_jOq"
      },
      "execution_count": 396,
      "outputs": []
    },
    {
      "cell_type": "code",
      "source": [
        "## create loss function\n",
        "\n",
        "loss_fn = nn.L1Loss()\n",
        "\n",
        "## create the optimizer (params : parameter of target model to optimize)\n",
        "## learning rate (how much the optimizer should change parameters at each step, higher=more (less stable), lower=less (might take a long time))\n",
        "\n",
        "optimizer = torch.optim.SGD(params = model1.parameters(), lr = 0.01)"
      ],
      "metadata": {
        "id": "0aA4CHqc_jLF"
      },
      "execution_count": 397,
      "outputs": []
    },
    {
      "cell_type": "code",
      "source": [
        "## Creating an optimization loop in PyTorch\n",
        "\n",
        "## The training loop involves the model going through the training data and learning the relationships between the features and labels.\n",
        "\n",
        "## The testing loop involves going through the testing data and evaluating how good the patterns are that the model learned on the training data.\n",
        "\n",
        "## Each of these is called a \"loop\" because we want our model to look (loop through) at each sample in each dataset."
      ],
      "metadata": {
        "id": "QLBwkEfb_jFS"
      },
      "execution_count": 398,
      "outputs": []
    },
    {
      "cell_type": "code",
      "source": [
        "## PyTorch training loop\n",
        "\n",
        "## Step 1 : Forward Pass :  model(x_train)\n",
        "## The model goes through all of the training data once, performing its forward() function calculations.\n",
        "\n",
        "## Step 2 : Calculate the loss :  loss = loss_fn(y_preds, y_test)\n",
        "## The model's outputs (predictions) are compared to the ground truth and evaluated to see how wrong they are.\n",
        "\n",
        "## Step 3 : Zero gradients :  optimizer.zero_grad()\n",
        "## The optimizers gradients are set to zero (they are accumulated by default) so they can be recalculated for the specific training step.\n",
        "\n",
        "## Step 5 : Perform backpropagation on the loss :  loss.backward()\n",
        "## Computes the gradient of the loss with respect for every model parameter to be updated (each parameter with requires_grad=True). This is known as backpropagation, hence \"backwards\".\n",
        "\n",
        "## Step 6 : Update the optimizer (gradient descent) :  optimizer.step()\n",
        "## Update the parameters with requires_grad=True with respect to the loss gradients in order to improve them."
      ],
      "metadata": {
        "id": "eketRkRL_jCU"
      },
      "execution_count": 399,
      "outputs": []
    },
    {
      "cell_type": "code",
      "source": [
        "# pass the data through the model for a number of epochs (e.g. 100 for 100 passes of data)\n",
        "# for epoch in range(epochs):\n",
        "\n",
        "  # put model in training mode (this is the default state of a model)\n",
        "#  model.train()\n",
        "\n",
        "  # 1. Forward pass on train data using the forward() method inside.\n",
        "#  y_pred = model(x_train)\n",
        "\n",
        "  # 2. calculate loss\n",
        "#  loss = loss_fn(y_pred, y_test)\n",
        "\n",
        "  # 3. Zero the gradients of the optimizer.\n",
        "#  optimizer.zero_grad()\n",
        "\n",
        "  # 4. perform backpropagation on the loss\n",
        "#  loss.backward()\n",
        "\n",
        "  # 5. progress/step the optimizer (gradient descent)\n",
        "#  optimizer.step()"
      ],
      "metadata": {
        "id": "iuygusgV_i_p"
      },
      "execution_count": 400,
      "outputs": []
    },
    {
      "cell_type": "code",
      "source": [
        "## Pytorch testing loop (Evaluating model)\n",
        "\n",
        "## Step 1 : Forward Pass : model(x_test)\n",
        "## The model goes through all of the testing data once, performing its forward() function calculations.\n",
        "\n",
        "## Step 2 : Calculate the loss : loss = loss_fn(y_pred, y_test)\n",
        "## The model's outputs (predictions) are compared to the ground truth and evaluated to see how wrong they are.\n",
        "\n",
        "## Step 3 : Calulate evaluation metrics (optional) : Custom functions\n",
        "## Alongisde the loss value you may want to calculate other evaluation metrics such as accuracy on the test set.\n",
        "\n",
        "## the testing loop doesn't contain performing backpropagation or stepping the optimizer, this is because no parameters in the model are being changed during testing,\n",
        "## they've already been calculated. For testing, we're only interested in the output of the forward pass through the model."
      ],
      "metadata": {
        "id": "HsGioDpz_i8b"
      },
      "execution_count": 401,
      "outputs": []
    },
    {
      "cell_type": "code",
      "source": [
        "# Setup empty list to keep track of model progress\n",
        "#epoch_count = []\n",
        "#train_loss_values = []\n",
        "#test_loss_values = []\n",
        "\n",
        "# pass the data through the model for a number of epochs (e.g. 100 for 100 passes of data)\n",
        "#for epoch in range(epochs):\n",
        "\n",
        "  ### Training loop code here\n",
        "\n",
        "  ### Testing loop starts\n",
        "\n",
        "  # put the model in evaluation mode\n",
        "#  model.eval()\n",
        "\n",
        "  # Turn on inference mode context manager\n",
        "#  with torch.inference_mode():\n",
        "\n",
        "    ## 1. Forward pass on test data\n",
        "#    test_pred = model(x_test)\n",
        "\n",
        "    ## 2. Calculate loss\n",
        " #   test_loss = loss_fn(test_pred, y_test)\n",
        "\n",
        "  # Print out whats happening every 10 epochs\n",
        "#  if epoch % 10 == 0 :\n",
        "#    epoch_count.append(epoch)\n",
        "#    train_loss_values.append(loss)\n",
        "#    test_loss_values.append(test_loss)\n",
        "#    print(f\"Epoch: {epoch}, MAE train loss: {loss}, MAE test loss: {test_loss}\")"
      ],
      "metadata": {
        "id": "kwoVLvxP_i5e"
      },
      "execution_count": 402,
      "outputs": []
    },
    {
      "cell_type": "code",
      "source": [
        "## train our model for 100 epochs (forward passes through the data) and we'll evaluate it every 10 epochs.\n",
        "\n",
        "torch.manual_seed(42)\n",
        "\n",
        "# Set the number of epochs (how many times the model will pass over the training data)\n",
        "epochs = 100\n",
        "\n",
        "# Create empty loss lists to track values\n",
        "train_loss_values = []\n",
        "test_loss_values = []\n",
        "epoch_count = []\n",
        "\n",
        "for epoch in range(epochs):\n",
        "    ### Training\n",
        "\n",
        "    # Put model in training mode (this is the default state of a model)\n",
        "    model1.train()\n",
        "\n",
        "    # 1. Forward pass on train data using the forward() method inside\n",
        "    y_pred = model1(x_train)\n",
        "    # print(y_pred)\n",
        "\n",
        "    # 2. Calculate the loss (how different are our models predictions to the ground truth)\n",
        "    loss = loss_fn(y_pred, y_train)\n",
        "\n",
        "    # 3. Zero grad of the optimizer\n",
        "    optimizer.zero_grad()\n",
        "\n",
        "    # 4. Loss backwards\n",
        "    loss.backward()\n",
        "\n",
        "    # 5. Progress the optimizer\n",
        "    optimizer.step()\n",
        "\n",
        "    ### Testing\n",
        "\n",
        "    # Put the model in evaluation mode\n",
        "    model1.eval()\n",
        "\n",
        "    with torch.inference_mode():\n",
        "      # 1. Forward pass on test data\n",
        "      test_pred = model1(x_test)\n",
        "\n",
        "      # 2. Caculate loss on test data\n",
        "      # predictions come in torch.float datatype, so comparisons need to be done with tensors of the same type\n",
        "      test_loss = loss_fn(test_pred, y_test.type(torch.float))\n",
        "\n",
        "      # Print out what's happening\n",
        "      if epoch % 10 == 0:\n",
        "            epoch_count.append(epoch)\n",
        "            train_loss_values.append(loss.detach().numpy())\n",
        "            test_loss_values.append(test_loss.detach().numpy())\n",
        "            print(f\"Epoch: {epoch} | MAE Train Loss: {loss} | MAE Test Loss: {test_loss} \")\n"
      ],
      "metadata": {
        "id": "C-9Knd8T_i2i",
        "colab": {
          "base_uri": "https://localhost:8080/"
        },
        "outputId": "e08a0bb0-b2dd-42d4-d4fd-3067d2cd47cf"
      },
      "execution_count": 403,
      "outputs": [
        {
          "output_type": "stream",
          "name": "stdout",
          "text": [
            "Epoch: 0 | MAE Train Loss: 0.31288138031959534 | MAE Test Loss: 0.48106518387794495 \n",
            "Epoch: 10 | MAE Train Loss: 0.1976713240146637 | MAE Test Loss: 0.3463551998138428 \n",
            "Epoch: 20 | MAE Train Loss: 0.08908725529909134 | MAE Test Loss: 0.21729660034179688 \n",
            "Epoch: 30 | MAE Train Loss: 0.053148526698350906 | MAE Test Loss: 0.14464017748832703 \n",
            "Epoch: 40 | MAE Train Loss: 0.04543796554207802 | MAE Test Loss: 0.11360953003168106 \n",
            "Epoch: 50 | MAE Train Loss: 0.04167863354086876 | MAE Test Loss: 0.09919948130846024 \n",
            "Epoch: 60 | MAE Train Loss: 0.03818932920694351 | MAE Test Loss: 0.08886633068323135 \n",
            "Epoch: 70 | MAE Train Loss: 0.03476089984178543 | MAE Test Loss: 0.0805937647819519 \n",
            "Epoch: 80 | MAE Train Loss: 0.03132382780313492 | MAE Test Loss: 0.07232122868299484 \n",
            "Epoch: 90 | MAE Train Loss: 0.02788739837706089 | MAE Test Loss: 0.06473556160926819 \n"
          ]
        }
      ]
    },
    {
      "cell_type": "code",
      "source": [
        "## Looks like our loss is going down with every epoch, let's plot it to find out.\n",
        "\n",
        "plot_view(predictions = test_pred)"
      ],
      "metadata": {
        "id": "7qNuJrOC_izn",
        "colab": {
          "base_uri": "https://localhost:8080/",
          "height": 368
        },
        "outputId": "d91d6f74-dbb1-4570-ae79-f7ab20d44821"
      },
      "execution_count": 404,
      "outputs": [
        {
          "output_type": "display_data",
          "data": {
            "text/plain": [
              "<Figure size 400x400 with 1 Axes>"
            ],
            "image/png": "[encoded data removed]"
          },
          "metadata": {}
        }
      ]
    },
    {
      "cell_type": "code",
      "source": [
        "# Plot the loss curves\n",
        "\n",
        "## The loss curves show the loss going down over time. Remember, loss is the measure of how wrong your model is, so the lower the better.\n",
        "## But why did the loss go down?\n",
        "## Well, thanks to our loss function and optimizer, the model's internal parameters (weights and bias) were updated to better reflect the underlying patterns in the data.\n",
        "\n",
        "plt.plot(epoch_count,train_loss_values, label=\"Train Loss\")\n",
        "plt.plot(epoch_count,test_loss_values, label=\"Test Loss\")\n",
        "plt.title(\"Training and test loss curves\")\n",
        "plt.ylabel(\"Loss\")\n",
        "plt.xlabel(\"Epochs\")\n",
        "plt.legend()"
      ],
      "metadata": {
        "id": "9_cne90G_iwx",
        "colab": {
          "base_uri": "https://localhost:8080/",
          "height": 489
        },
        "outputId": "a233d102-1398-47e3-c1e8-c1debeff871e"
      },
      "execution_count": 405,
      "outputs": [
        {
          "output_type": "execute_result",
          "data": {
            "text/plain": [
              "<matplotlib.legend.Legend at 0x79e1b33f1ae0>"
            ]
          },
          "metadata": {},
          "execution_count": 405
        },
        {
          "output_type": "display_data",
          "data": {
            "text/plain": [
              "<Figure size 640x480 with 1 Axes>"
            ],
            "image/png": "[encoded data removed]"
          },
          "metadata": {}
        }
      ]
    },
    {
      "cell_type": "code",
      "source": [
        "## Lets see how close our model gets to the original values we set for weights and bias.\n",
        "## Our model got very close to calculate the exact original values for weight and bias.\n",
        "\n",
        "print(\"The model learned the following values for weights and bias:\\n\")\n",
        "print(model1.state_dict())\n",
        "\n",
        "print(\"\\n\\nActual values for weights and bias: \\n\")\n",
        "print(f\"Actual weight:{w}, Actual Bias:{b}\")\n"
      ],
      "metadata": {
        "id": "7bxb92TX_iuD",
        "colab": {
          "base_uri": "https://localhost:8080/"
        },
        "outputId": "7f391831-e5c9-4277-8873-ee1d4e715c29"
      },
      "execution_count": 406,
      "outputs": [
        {
          "output_type": "stream",
          "name": "stdout",
          "text": [
            "The model learned the following values for weights and bias:\n",
            "\n",
            "OrderedDict([('weights', tensor([0.5784])), ('bias', tensor([0.3513]))])\n",
            "\n",
            "\n",
            "Actual values for weights and bias: \n",
            "\n",
            "Actual weight:0.7, Actual Bias:0.3\n"
          ]
        }
      ]
    },
    {
      "cell_type": "markdown",
      "source": [
        "**STEP 4: Making predictions with a trained PyTorch model (inference)**"
      ],
      "metadata": {
        "id": "nlSD7fPKOrLD"
      }
    },
    {
      "cell_type": "code",
      "source": [
        "##  Three things to remember when making predictions (also called performing inference) with a PyTorch model:\n",
        "\n",
        "## 1. Set the model in evaluation mode (model.eval()).\n",
        "## 2. Make the predictions using the inference mode context manager (with torch.inference_mode(): ...).\n",
        "## 3. All predictions should be made with objects on the same device (e.g. data and model on GPU only or data and model on CPU only).\n",
        "\n",
        "# 1. Set the model in evaluation mode\n",
        "model1.eval()\n",
        "\n",
        "# 2. Setup the inference mode context manager\n",
        "with torch.inference_mode():\n",
        "  # 3. Make sure the calculations are done with the model and data on the same device\n",
        "  # in our case, we haven't setup device-agnostic code yet so our data and model are\n",
        "  # on the CPU by default.\n",
        "  # model1.to(device)\n",
        "  # x_test = x_test.to(device)\n",
        "  y_preds = model1(x_test)\n",
        "y_preds"
      ],
      "metadata": {
        "id": "Xpx9UfPk_irP",
        "colab": {
          "base_uri": "https://localhost:8080/"
        },
        "outputId": "c7b0cc11-c831-4d74-8b2f-d05f32070a46"
      },
      "execution_count": 407,
      "outputs": [
        {
          "output_type": "execute_result",
          "data": {
            "text/plain": [
              "tensor([[0.8141],\n",
              "        [0.8256],\n",
              "        [0.8372],\n",
              "        [0.8488],\n",
              "        [0.8603],\n",
              "        [0.8719],\n",
              "        [0.8835],\n",
              "        [0.8950],\n",
              "        [0.9066],\n",
              "        [0.9182]])"
            ]
          },
          "metadata": {},
          "execution_count": 407
        }
      ]
    },
    {
      "cell_type": "markdown",
      "source": [
        "**STEP 5 : Saving and loading a PyTorch model**"
      ],
      "metadata": {
        "id": "Qnjono-DPqTU"
      }
    },
    {
      "cell_type": "code",
      "source": [
        "## 1. We'll create a directory for saving models to called models using Python's pathlib module.\n",
        "## 1. We'll create a file path to save the model to.\n",
        "## 1. We'll call torch.save(obj, f) where obj is the target model's state_dict() and f is the filename of where to save the model.\n",
        "\n",
        "from pathlib import Path\n",
        "\n",
        "# 1. Create models directory\n",
        "MODEL_PATH = Path(\"models\")\n",
        "MODEL_PATH.mkdir(parents=True, exist_ok=True)\n",
        "\n",
        "# 2. Create model save path\n",
        "MODEL_NAME = \"01_pytorch_workflow_model_0.pth\"\n",
        "MODEL_SAVE_PATH = MODEL_PATH / MODEL_NAME\n",
        "\n",
        "# 3. Save the model state dict\n",
        "print(f\"Saving model to: {MODEL_SAVE_PATH}\")\n",
        "\n",
        "# only saving the state_dict() only saves the models learned parameters\n",
        "torch.save(obj=model1.state_dict(),f=MODEL_SAVE_PATH)"
      ],
      "metadata": {
        "id": "sWu7q00Q_ilv",
        "colab": {
          "base_uri": "https://localhost:8080/"
        },
        "outputId": "218e0bfa-3cd3-4b4d-b929-804be24a16c0"
      },
      "execution_count": 408,
      "outputs": [
        {
          "output_type": "stream",
          "name": "stdout",
          "text": [
            "Saving model to: models/01_pytorch_workflow_model_0.pth\n"
          ]
        }
      ]
    },
    {
      "cell_type": "code",
      "source": [
        "# Check the saved file path\n",
        "!ls -l models/01_pytorch_workflow_model_0.pth"
      ],
      "metadata": {
        "id": "FzRwbDxQ_iiy",
        "colab": {
          "base_uri": "https://localhost:8080/"
        },
        "outputId": "272d83e0-6de7-4c2e-cef3-b4dfccc00b5c"
      },
      "execution_count": 409,
      "outputs": [
        {
          "output_type": "stream",
          "name": "stdout",
          "text": [
            "-rw-r--r-- 1 root root 1680 Apr  9 15:18 models/01_pytorch_workflow_model_0.pth\n"
          ]
        }
      ]
    },
    {
      "cell_type": "code",
      "source": [],
      "metadata": {
        "id": "Docmkt6taTKH"
      },
      "execution_count": 409,
      "outputs": []
    },
    {
      "cell_type": "markdown",
      "source": [
        "**Building a PyTorch linear model (Another way)**"
      ],
      "metadata": {
        "id": "4u01PgLVUJHg"
      }
    },
    {
      "cell_type": "code",
      "source": [
        "## instead of defining the weight and bias parameters of our model manually using nn.Parameter(), we'll use nn.Linear(in_features, out_features)\n",
        "\n",
        "## in_features is the number of dimensions your input data has and out_features is the number of dimensions you'd like it to be output to.\n",
        "## In our case, both of these are 1 since our data has 1 input feature (X) per label (y).\n",
        "\n",
        "## Notice the outputs of model2.state_dict(), the nn.Linear() layer created a random weight and bias parameter.\n",
        "\n",
        "class LinearRegression(nn.Module):\n",
        "\n",
        "  def __init__(self):\n",
        "    super().__init__()\n",
        "\n",
        "    self.linear_layer = nn.Linear(in_features = 1, out_features = 1)\n",
        "\n",
        "  def forward(self, x:torch.Tensor) -> torch.Tensor :\n",
        "\n",
        "     return self.linear_layer(x)\n",
        "\n",
        "torch.manual_seed(42)\n",
        "model2 = LinearRegression()\n",
        "\n",
        "model2, model2.state_dict()"
      ],
      "metadata": {
        "id": "4QRxOR9caTHV",
        "colab": {
          "base_uri": "https://localhost:8080/"
        },
        "outputId": "bd462e1a-e3e0-4df4-e53d-d9fb2fbe897b"
      },
      "execution_count": 410,
      "outputs": [
        {
          "output_type": "execute_result",
          "data": {
            "text/plain": [
              "(LinearRegression(\n",
              "   (linear_layer): Linear(in_features=1, out_features=1, bias=True)\n",
              " ),\n",
              " OrderedDict([('linear_layer.weight', tensor([[0.7645]])),\n",
              "              ('linear_layer.bias', tensor([0.8300]))]))"
            ]
          },
          "metadata": {},
          "execution_count": 410
        }
      ]
    },
    {
      "cell_type": "code",
      "source": [
        "# Check model device\n",
        "next(model2.parameters()).device"
      ],
      "metadata": {
        "id": "kubwsHAPaTES",
        "colab": {
          "base_uri": "https://localhost:8080/"
        },
        "outputId": "6bdfb1e0-f6f8-47e1-d587-70ddd32891fc"
      },
      "execution_count": 411,
      "outputs": [
        {
          "output_type": "execute_result",
          "data": {
            "text/plain": [
              "device(type='cpu')"
            ]
          },
          "metadata": {},
          "execution_count": 411
        }
      ]
    },
    {
      "cell_type": "code",
      "source": [
        "# Let's change it to be on the GPU (if it's available).\n",
        "# Set model to GPU if it's availalble, otherwise it'll default to CPU\n",
        "\n",
        "# the device variable was set above to be \"cuda\" if available or \"cpu\" if not\n",
        "\n",
        "# If you do have access to a CUDA-enabled GPU, you should see an output of something like: device(type='cuda', index=0)\n",
        "\n",
        "## model2.to(device)\n",
        "## next(model2.parameters()).device"
      ],
      "metadata": {
        "id": "D4B34ghNaTBi"
      },
      "execution_count": 412,
      "outputs": []
    },
    {
      "cell_type": "code",
      "source": [
        "## need a add loss function and an optimizer\n",
        "\n",
        "loss_fn = nn.L1Loss()\n",
        "\n",
        "optimizer = torch.optim.SGD(params = model2.parameters(), lr = 0.01)"
      ],
      "metadata": {
        "id": "UuU4qMChD3xL"
      },
      "execution_count": 413,
      "outputs": []
    },
    {
      "cell_type": "code",
      "source": [
        "## let's train and evaluate our model using a training and testing loop.\n",
        "\n",
        "torch.manual_seed(42)\n",
        "\n",
        "# Set the number of epochs\n",
        "epochs = 100\n",
        "\n",
        "# Put data on the available device (GPU)\n",
        "# Without this, error will happen (not all model/data on device)\n",
        "#X_train = X_train.to(device)\n",
        "#X_test = X_test.to(device)\n",
        "#y_train = y_train.to(device)\n",
        "#y_test = y_test.to(device)\n",
        "\n",
        "train_loss_values = []\n",
        "test_loss_values = []\n",
        "epoch_count = []\n",
        "\n",
        "for epoch in range(epochs):\n",
        "\n",
        "  # Training Loop\n",
        "  model2.train()\n",
        "\n",
        "  y_pred = model2(x_train)\n",
        "  loss = loss_fn(y_pred, y_train)\n",
        "  optimizer.zero_grad()\n",
        "  loss.backward()\n",
        "  optimizer.step()\n",
        "\n",
        "  # Testing Loop\n",
        "  model2.eval()\n",
        "\n",
        "  with torch.inference_mode():\n",
        "    test_pred = model2(x_test)\n",
        "    test_loss = loss_fn(test_pred, y_test)\n",
        "\n",
        "  if epoch % 10 == 0 :\n",
        "\n",
        "    epoch_count.append(epoch)\n",
        "    train_loss_values.append(loss.detach().numpy())\n",
        "    test_loss_values.append(test_loss.detach().numpy())\n",
        "\n",
        "    print(f\"Epoch : {epoch}, Train_Loss : {loss}, Test_loss : {test_loss}\")"
      ],
      "metadata": {
        "id": "38rNuVUAD3sH",
        "colab": {
          "base_uri": "https://localhost:8080/"
        },
        "outputId": "fe0ae4a8-c2e6-4e2a-9c56-f941b5fb9e6d"
      },
      "execution_count": 414,
      "outputs": [
        {
          "output_type": "stream",
          "name": "stdout",
          "text": [
            "Epoch : 0, Train_Loss : 0.5551779866218567, Test_loss : 0.5739762187004089\n",
            "Epoch : 10, Train_Loss : 0.4399680495262146, Test_loss : 0.4392663538455963\n",
            "Epoch : 20, Train_Loss : 0.3247582018375397, Test_loss : 0.30455657839775085\n",
            "Epoch : 30, Train_Loss : 0.20954827964305878, Test_loss : 0.16984674334526062\n",
            "Epoch : 40, Train_Loss : 0.09433844685554504, Test_loss : 0.03513689711689949\n",
            "Epoch : 50, Train_Loss : 0.023886386305093765, Test_loss : 0.04784906655550003\n",
            "Epoch : 60, Train_Loss : 0.0199567973613739, Test_loss : 0.04580312222242355\n",
            "Epoch : 70, Train_Loss : 0.016517987474799156, Test_loss : 0.0375305712223053\n",
            "Epoch : 80, Train_Loss : 0.013089170679450035, Test_loss : 0.029944902285933495\n",
            "Epoch : 90, Train_Loss : 0.009653178043663502, Test_loss : 0.02167237363755703\n"
          ]
        }
      ]
    },
    {
      "cell_type": "code",
      "source": [
        "# Find our model's learned parameters ,compare with actual parameters\n",
        "\n",
        "print(model2.state_dict())\n",
        "\n",
        "print(f\"Actual weight: {w}, Actual bias: {b} \")"
      ],
      "metadata": {
        "id": "Qcjo1084D3mM",
        "colab": {
          "base_uri": "https://localhost:8080/"
        },
        "outputId": "9579bb3a-325c-40d1-ffa9-44119ad220eb"
      },
      "execution_count": 415,
      "outputs": [
        {
          "output_type": "stream",
          "name": "stdout",
          "text": [
            "OrderedDict([('linear_layer.weight', tensor([[0.6691]])), ('linear_layer.bias', tensor([0.3130]))])\n",
            "Actual weight: 0.7, Actual bias: 0.3 \n"
          ]
        }
      ]
    },
    {
      "cell_type": "code",
      "source": [
        "# Making Prediction\n",
        "# Turn model into evaluation mode\n",
        "model2.eval()\n",
        "\n",
        "# Make predictions on the test data\n",
        "with torch.inference_mode():\n",
        "    y_preds = model2(x_test)\n",
        "y_preds"
      ],
      "metadata": {
        "colab": {
          "base_uri": "https://localhost:8080/"
        },
        "id": "fOxrGRriZFsk",
        "outputId": "4ede49f3-8529-480d-afbe-b23e55fbd6e5"
      },
      "execution_count": 416,
      "outputs": [
        {
          "output_type": "execute_result",
          "data": {
            "text/plain": [
              "tensor([[0.8483],\n",
              "        [0.8617],\n",
              "        [0.8750],\n",
              "        [0.8884],\n",
              "        [0.9018],\n",
              "        [0.9152],\n",
              "        [0.9286],\n",
              "        [0.9420],\n",
              "        [0.9553],\n",
              "        [0.9687]])"
            ]
          },
          "metadata": {},
          "execution_count": 416
        }
      ]
    },
    {
      "cell_type": "code",
      "source": [
        "# plot_view(predictions=y_preds) # -> won't work... data not on CPU\n",
        "\n",
        "# Put data on the CPU and plot it\n",
        "# plot_view(predictions=y_preds.cpu())\n",
        "\n",
        "plot_view(predictions = y_preds)"
      ],
      "metadata": {
        "id": "XkQgMs3kD3dm",
        "colab": {
          "base_uri": "https://localhost:8080/",
          "height": 368
        },
        "outputId": "97c9f7ae-5099-4d1b-d05f-65bee6a3ccaa"
      },
      "execution_count": 417,
      "outputs": [
        {
          "output_type": "display_data",
          "data": {
            "text/plain": [
              "<Figure size 400x400 with 1 Axes>"
            ],
            "image/png": "[encoded data removed]"
          },
          "metadata": {}
        }
      ]
    },
    {
      "cell_type": "code",
      "source": [
        "plt.plot(epoch_count,train_loss_values, label=\"Train Loss\")\n",
        "plt.plot(epoch_count,test_loss_values, label=\"Test Loss\")\n",
        "plt.title(\"Training and test loss curves\")\n",
        "plt.ylabel(\"Loss\")\n",
        "plt.xlabel(\"Epochs\")\n",
        "plt.legend()"
      ],
      "metadata": {
        "id": "uw-Am6p2D3Y3",
        "colab": {
          "base_uri": "https://localhost:8080/",
          "height": 489
        },
        "outputId": "885d0c07-29ec-425a-9d56-8c7c415d8325"
      },
      "execution_count": 418,
      "outputs": [
        {
          "output_type": "execute_result",
          "data": {
            "text/plain": [
              "<matplotlib.legend.Legend at 0x79e1b3322d40>"
            ]
          },
          "metadata": {},
          "execution_count": 418
        },
        {
          "output_type": "display_data",
          "data": {
            "text/plain": [
              "<Figure size 640x480 with 1 Axes>"
            ],
            "image/png": "[encoded data removed]"
          },
          "metadata": {}
        }
      ]
    },
    {
      "cell_type": "code",
      "source": [],
      "metadata": {
        "id": "V2KfymQuD3Vs"
      },
      "execution_count": 418,
      "outputs": []
    },
    {
      "cell_type": "code",
      "source": [],
      "metadata": {
        "id": "5mDb8AfjD3OB"
      },
      "execution_count": 418,
      "outputs": []
    },
    {
      "cell_type": "code",
      "source": [],
      "metadata": {
        "id": "83z4SLZGD3Ip"
      },
      "execution_count": 418,
      "outputs": []
    },
    {
      "cell_type": "code",
      "source": [],
      "metadata": {
        "id": "ajXdpByYD3A2"
      },
      "execution_count": 418,
      "outputs": []
    }
  ]
}